{
  "nbformat": 4,
  "nbformat_minor": 0,
  "metadata": {
    "colab": {
      "name": "Intro.ipynb",
      "provenance": [],
      "collapsed_sections": [],
      "authorship_tag": "ABX9TyN5cOxEVY127vmpddDTNHLj",
      "include_colab_link": true
    },
    "kernelspec": {
      "name": "python3",
      "display_name": "Python 3"
    }
  },
  "cells": [
    {
      "cell_type": "markdown",
      "metadata": {
        "id": "view-in-github",
        "colab_type": "text"
      },
      "source": [
        "<a href=\"https://colab.research.google.com/github/cdcmx2020a/groupA_Jose/blob/master/Intro.ipynb\" target=\"_parent\"><img src=\"https://colab.research.google.com/assets/colab-badge.svg\" alt=\"Open In Colab\"/></a>"
      ]
    },
    {
      "cell_type": "markdown",
      "metadata": {
        "id": "qSe5GL6aM01x",
        "colab_type": "text"
      },
      "source": [
        "# Introduction and basics of the Task\n",
        "## Today we are going to use some libraries to make things easier ...\n",
        "\n",
        "\n",
        "*   numpy\n",
        "*   matplotlib\n",
        "*   scipy\n",
        "*   plotly\n",
        "\n"
      ]
    },
    {
      "cell_type": "markdown",
      "metadata": {
        "id": "mkhuW4IQYbEo",
        "colab_type": "text"
      },
      "source": [
        "![texto alternativo](https://miro.medium.com/max/432/1*jTW7doI_cqC_p9XQrmuu9A.png)\n",
        "\n",
        "## In this example, the graph consists of 4 points linked by arrows. We call the points \"nodes\" and the arrows \"edges\".\n",
        "\n",
        "Here we will build some graph using random positions and they will be connected based on the proximity of their neighbors.\n",
        "\n",
        "![texto alternativo](https://github.com/napoles-uach/figuras/blob/master/nn1.png?raw=true)\n",
        "\n"
      ]
    },
    {
      "cell_type": "markdown",
      "metadata": {
        "id": "hdOMH4L_Vi5p",
        "colab_type": "text"
      },
      "source": [
        "\n",
        "\n",
        "---\n",
        "\n",
        "\n",
        "\n",
        "---\n",
        "\n"
      ]
    },
    {
      "cell_type": "markdown",
      "metadata": {
        "id": "bysDK0dGVmKO",
        "colab_type": "text"
      },
      "source": [
        "# **`Numpy `** is perhaps the most important library we will use. Once imported, we are able to do numerical operations. "
      ]
    },
    {
      "cell_type": "code",
      "metadata": {
        "id": "2q9uegHvRhu9",
        "colab_type": "code",
        "colab": {}
      },
      "source": [
        "import numpy as np"
      ],
      "execution_count": 1,
      "outputs": []
    },
    {
      "cell_type": "markdown",
      "metadata": {
        "id": "b0OqzVNFV73K",
        "colab_type": "text"
      },
      "source": [
        "## Now, Python knows what is $\\pi$, and $\\cos(\\pi/4)$:"
      ]
    },
    {
      "cell_type": "code",
      "metadata": {
        "id": "b5ucGqg9WWM0",
        "colab_type": "code",
        "colab": {
          "base_uri": "https://localhost:8080/",
          "height": 35
        },
        "outputId": "7289c9c6-aa9e-4935-90af-767c1d9fa3d1"
      },
      "source": [
        "pi= np.pi\n",
        "copi= np.cos(pi/4)\n",
        "\n",
        "print(pi,copi)"
      ],
      "execution_count": 2,
      "outputs": [
        {
          "output_type": "stream",
          "text": [
            "3.141592653589793 0.7071067811865476\n"
          ],
          "name": "stdout"
        }
      ]
    },
    {
      "cell_type": "markdown",
      "metadata": {
        "id": "tpaN4uvBXGSm",
        "colab_type": "text"
      },
      "source": [
        "If you want something more fancy:"
      ]
    },
    {
      "cell_type": "code",
      "metadata": {
        "id": "XIuUmbPKXLE0",
        "colab_type": "code",
        "colab": {
          "base_uri": "https://localhost:8080/",
          "height": 35
        },
        "outputId": "d3538245-5238-428e-d0dd-dc708f31b32a"
      },
      "source": [
        "print(\"pi = \",pi, \"cos(pi/4) = \",copi)"
      ],
      "execution_count": 3,
      "outputs": [
        {
          "output_type": "stream",
          "text": [
            "pi =  3.141592653589793 cos(pi/4) =  0.7071067811865476\n"
          ],
          "name": "stdout"
        }
      ]
    },
    {
      "cell_type": "markdown",
      "metadata": {
        "id": "tGYfb4BvXZtx",
        "colab_type": "text"
      },
      "source": [
        "well, more or less ... "
      ]
    },
    {
      "cell_type": "markdown",
      "metadata": {
        "id": "UhgPgXRkYQsA",
        "colab_type": "text"
      },
      "source": [
        "# How do you evaluate the distance between two points?\n",
        "\n",
        "R: yes, **Pythagorean theorem**.\n",
        "\n",
        "![texto alternativo](https://4.bp.blogspot.com/-aYH9XG-HEMo/WlEtO_gzW7I/AAAAAAAAACo/eYa9Gym9Kck9lWZO9WTO-dyx2_cX5DKVQCLcBGAs/s1600/perimetro-de-un-triangulo.jpg)\n",
        "\n",
        "Now, with python:"
      ]
    },
    {
      "cell_type": "code",
      "metadata": {
        "id": "jIP86D7tYe67",
        "colab_type": "code",
        "colab": {
          "base_uri": "https://localhost:8080/",
          "height": 35
        },
        "outputId": "57bf4736-6d97-4794-9c50-8c9c17c008e8"
      },
      "source": [
        "from scipy.spatial import distance\n",
        "a1 = (0, 0)\n",
        "a2 = (3, 4)\n",
        "d = distance.euclidean(a1, a2)\n",
        "print(\"Euclidean distance: \",d)"
      ],
      "execution_count": 4,
      "outputs": [
        {
          "output_type": "stream",
          "text": [
            "Euclidean distance:  5.0\n"
          ],
          "name": "stdout"
        }
      ]
    },
    {
      "cell_type": "markdown",
      "metadata": {
        "id": "41xEHMm6aPLo",
        "colab_type": "text"
      },
      "source": [
        "#Now, doing this for many point is not practical, so we can use another function called `cdist`"
      ]
    },
    {
      "cell_type": "code",
      "metadata": {
        "id": "-_PT7ASjo2Wq",
        "colab_type": "code",
        "colab": {}
      },
      "source": [
        "from scipy.spatial.distance import cdist"
      ],
      "execution_count": 5,
      "outputs": []
    },
    {
      "cell_type": "markdown",
      "metadata": {
        "id": "CaKhV1Hraudx",
        "colab_type": "text"
      },
      "source": [
        "# But now we need those points. Here we can create these coordinates using random numbers!!!\n",
        "\n",
        "![texto alternativo](https://spicyyoghurt.com/img/tutorials/headers/large/random_header.jpg)"
      ]
    },
    {
      "cell_type": "code",
      "metadata": {
        "id": "mzEQqx19YhKC",
        "colab_type": "code",
        "colab": {}
      },
      "source": [
        "np.random.seed(1973)\n",
        "N=10\n",
        "longitud = np.random.uniform(-100,-120, size=(N, ))\n",
        "latitud = np.random.uniform(20,30, size=(N, ))\n"
      ],
      "execution_count": 6,
      "outputs": []
    },
    {
      "cell_type": "markdown",
      "metadata": {
        "id": "2Tz8j7Wgb9fa",
        "colab_type": "text"
      },
      "source": [
        "### Print longitud and latitud to see how they look. Feel free to change the parameters to see what happens."
      ]
    },
    {
      "cell_type": "code",
      "metadata": {
        "id": "aSQRsENycNlW",
        "colab_type": "code",
        "colab": {
          "base_uri": "https://localhost:8080/",
          "height": 52
        },
        "outputId": "9f2c899e-81a4-4601-f4af-f5e8f17e6843"
      },
      "source": [
        "print(\"longitud: \", longitud)"
      ],
      "execution_count": 7,
      "outputs": [
        {
          "output_type": "stream",
          "text": [
            "longitud:  [-109.6699348  -105.6176406  -113.13509911 -102.3467356  -110.31682821\n",
            " -114.48555437 -112.87887082 -117.7051661  -117.59489811 -106.18942879]\n"
          ],
          "name": "stdout"
        }
      ]
    },
    {
      "cell_type": "markdown",
      "metadata": {
        "id": "_UYIx8Cqc9Av",
        "colab_type": "text"
      },
      "source": [
        "# Now we can see them on the plane using `plotly`."
      ]
    },
    {
      "cell_type": "code",
      "metadata": {
        "id": "xDyA6yJfdyTe",
        "colab_type": "code",
        "colab": {
          "base_uri": "https://localhost:8080/",
          "height": 542
        },
        "outputId": "b679242e-8108-422d-d2c9-cb3a3e98fef1"
      },
      "source": [
        "import plotly.express as px\n",
        "fig = px.scatter(x=latitud,y=longitud)\n",
        "fig.show()"
      ],
      "execution_count": 8,
      "outputs": [
        {
          "output_type": "display_data",
          "data": {
            "text/html": [
              "<html>\n",
              "<head><meta charset=\"utf-8\" /></head>\n",
              "<body>\n",
              "    <div>\n",
              "            <script src=\"https://cdnjs.cloudflare.com/ajax/libs/mathjax/2.7.5/MathJax.js?config=TeX-AMS-MML_SVG\"></script><script type=\"text/javascript\">if (window.MathJax) {MathJax.Hub.Config({SVG: {font: \"STIX-Web\"}});}</script>\n",
              "                <script type=\"text/javascript\">window.PlotlyConfig = {MathJaxConfig: 'local'};</script>\n",
              "        <script src=\"https://cdn.plot.ly/plotly-latest.min.js\"></script>    \n",
              "            <div id=\"0157f9ef-8373-4efd-9d1c-36d7719756f0\" class=\"plotly-graph-div\" style=\"height:525px; width:100%;\"></div>\n",
              "            <script type=\"text/javascript\">\n",
              "                \n",
              "                    window.PLOTLYENV=window.PLOTLYENV || {};\n",
              "                    \n",
              "                if (document.getElementById(\"0157f9ef-8373-4efd-9d1c-36d7719756f0\")) {\n",
              "                    Plotly.newPlot(\n",
              "                        '0157f9ef-8373-4efd-9d1c-36d7719756f0',\n",
              "                        [{\"hoverlabel\": {\"namelength\": 0}, \"hovertemplate\": \"x=%{x}<br>y=%{y}\", \"legendgroup\": \"\", \"marker\": {\"color\": \"#636efa\", \"symbol\": \"circle\"}, \"mode\": \"markers\", \"name\": \"\", \"showlegend\": false, \"type\": \"scatter\", \"x\": [22.822545461832505, 21.87396038921919, 21.088005517853823, 24.274187923268983, 25.32547259214744, 26.196457185571603, 22.329068196519746, 20.254956226979026, 22.449896308052455, 25.28597205275489], \"xaxis\": \"x\", \"y\": [-109.66993479774308, -105.61764060080203, -113.13509911132469, -102.34673559974613, -110.31682821143337, -114.48555436889743, -112.87887081755152, -117.70516609902985, -117.59489810613252, -106.18942878953801], \"yaxis\": \"y\"}],\n",
              "                        {\"legend\": {\"tracegroupgap\": 0}, \"margin\": {\"t\": 60}, \"template\": {\"data\": {\"bar\": [{\"error_x\": {\"color\": \"#2a3f5f\"}, \"error_y\": {\"color\": \"#2a3f5f\"}, \"marker\": {\"line\": {\"color\": \"#E5ECF6\", \"width\": 0.5}}, \"type\": \"bar\"}], \"barpolar\": [{\"marker\": {\"line\": {\"color\": \"#E5ECF6\", \"width\": 0.5}}, \"type\": \"barpolar\"}], \"carpet\": [{\"aaxis\": {\"endlinecolor\": \"#2a3f5f\", \"gridcolor\": \"white\", \"linecolor\": \"white\", \"minorgridcolor\": \"white\", \"startlinecolor\": \"#2a3f5f\"}, \"baxis\": {\"endlinecolor\": \"#2a3f5f\", \"gridcolor\": \"white\", \"linecolor\": \"white\", \"minorgridcolor\": \"white\", \"startlinecolor\": \"#2a3f5f\"}, \"type\": \"carpet\"}], \"choropleth\": [{\"colorbar\": {\"outlinewidth\": 0, \"ticks\": \"\"}, \"type\": \"choropleth\"}], \"contour\": [{\"colorbar\": {\"outlinewidth\": 0, \"ticks\": \"\"}, \"colorscale\": [[0.0, \"#0d0887\"], [0.1111111111111111, \"#46039f\"], [0.2222222222222222, \"#7201a8\"], [0.3333333333333333, \"#9c179e\"], [0.4444444444444444, \"#bd3786\"], [0.5555555555555556, \"#d8576b\"], [0.6666666666666666, \"#ed7953\"], [0.7777777777777778, \"#fb9f3a\"], [0.8888888888888888, \"#fdca26\"], [1.0, \"#f0f921\"]], \"type\": \"contour\"}], \"contourcarpet\": [{\"colorbar\": {\"outlinewidth\": 0, \"ticks\": \"\"}, \"type\": \"contourcarpet\"}], \"heatmap\": [{\"colorbar\": {\"outlinewidth\": 0, \"ticks\": \"\"}, \"colorscale\": [[0.0, \"#0d0887\"], [0.1111111111111111, \"#46039f\"], [0.2222222222222222, \"#7201a8\"], [0.3333333333333333, \"#9c179e\"], [0.4444444444444444, \"#bd3786\"], [0.5555555555555556, \"#d8576b\"], [0.6666666666666666, \"#ed7953\"], [0.7777777777777778, \"#fb9f3a\"], [0.8888888888888888, \"#fdca26\"], [1.0, \"#f0f921\"]], \"type\": \"heatmap\"}], \"heatmapgl\": [{\"colorbar\": {\"outlinewidth\": 0, \"ticks\": \"\"}, \"colorscale\": [[0.0, \"#0d0887\"], [0.1111111111111111, \"#46039f\"], [0.2222222222222222, \"#7201a8\"], [0.3333333333333333, \"#9c179e\"], [0.4444444444444444, \"#bd3786\"], [0.5555555555555556, \"#d8576b\"], [0.6666666666666666, \"#ed7953\"], [0.7777777777777778, \"#fb9f3a\"], [0.8888888888888888, \"#fdca26\"], [1.0, \"#f0f921\"]], \"type\": \"heatmapgl\"}], \"histogram\": [{\"marker\": {\"colorbar\": {\"outlinewidth\": 0, \"ticks\": \"\"}}, \"type\": \"histogram\"}], \"histogram2d\": [{\"colorbar\": {\"outlinewidth\": 0, \"ticks\": \"\"}, \"colorscale\": [[0.0, \"#0d0887\"], [0.1111111111111111, \"#46039f\"], [0.2222222222222222, \"#7201a8\"], [0.3333333333333333, \"#9c179e\"], [0.4444444444444444, \"#bd3786\"], [0.5555555555555556, \"#d8576b\"], [0.6666666666666666, \"#ed7953\"], [0.7777777777777778, \"#fb9f3a\"], [0.8888888888888888, \"#fdca26\"], [1.0, \"#f0f921\"]], \"type\": \"histogram2d\"}], \"histogram2dcontour\": [{\"colorbar\": {\"outlinewidth\": 0, \"ticks\": \"\"}, \"colorscale\": [[0.0, \"#0d0887\"], [0.1111111111111111, \"#46039f\"], [0.2222222222222222, \"#7201a8\"], [0.3333333333333333, \"#9c179e\"], [0.4444444444444444, \"#bd3786\"], [0.5555555555555556, \"#d8576b\"], [0.6666666666666666, \"#ed7953\"], [0.7777777777777778, \"#fb9f3a\"], [0.8888888888888888, \"#fdca26\"], [1.0, \"#f0f921\"]], \"type\": \"histogram2dcontour\"}], \"mesh3d\": [{\"colorbar\": {\"outlinewidth\": 0, \"ticks\": \"\"}, \"type\": \"mesh3d\"}], \"parcoords\": [{\"line\": {\"colorbar\": {\"outlinewidth\": 0, \"ticks\": \"\"}}, \"type\": \"parcoords\"}], \"pie\": [{\"automargin\": true, \"type\": \"pie\"}], \"scatter\": [{\"marker\": {\"colorbar\": {\"outlinewidth\": 0, \"ticks\": \"\"}}, \"type\": \"scatter\"}], \"scatter3d\": [{\"line\": {\"colorbar\": {\"outlinewidth\": 0, \"ticks\": \"\"}}, \"marker\": {\"colorbar\": {\"outlinewidth\": 0, \"ticks\": \"\"}}, \"type\": \"scatter3d\"}], \"scattercarpet\": [{\"marker\": {\"colorbar\": {\"outlinewidth\": 0, \"ticks\": \"\"}}, \"type\": \"scattercarpet\"}], \"scattergeo\": [{\"marker\": {\"colorbar\": {\"outlinewidth\": 0, \"ticks\": \"\"}}, \"type\": \"scattergeo\"}], \"scattergl\": [{\"marker\": {\"colorbar\": {\"outlinewidth\": 0, \"ticks\": \"\"}}, \"type\": \"scattergl\"}], \"scattermapbox\": [{\"marker\": {\"colorbar\": {\"outlinewidth\": 0, \"ticks\": \"\"}}, \"type\": \"scattermapbox\"}], \"scatterpolar\": [{\"marker\": {\"colorbar\": {\"outlinewidth\": 0, \"ticks\": \"\"}}, \"type\": \"scatterpolar\"}], \"scatterpolargl\": [{\"marker\": {\"colorbar\": {\"outlinewidth\": 0, \"ticks\": \"\"}}, \"type\": \"scatterpolargl\"}], \"scatterternary\": [{\"marker\": {\"colorbar\": {\"outlinewidth\": 0, \"ticks\": \"\"}}, \"type\": \"scatterternary\"}], \"surface\": [{\"colorbar\": {\"outlinewidth\": 0, \"ticks\": \"\"}, \"colorscale\": [[0.0, \"#0d0887\"], [0.1111111111111111, \"#46039f\"], [0.2222222222222222, \"#7201a8\"], [0.3333333333333333, \"#9c179e\"], [0.4444444444444444, \"#bd3786\"], [0.5555555555555556, \"#d8576b\"], [0.6666666666666666, \"#ed7953\"], [0.7777777777777778, \"#fb9f3a\"], [0.8888888888888888, \"#fdca26\"], [1.0, \"#f0f921\"]], \"type\": \"surface\"}], \"table\": [{\"cells\": {\"fill\": {\"color\": \"#EBF0F8\"}, \"line\": {\"color\": \"white\"}}, \"header\": {\"fill\": {\"color\": \"#C8D4E3\"}, \"line\": {\"color\": \"white\"}}, \"type\": \"table\"}]}, \"layout\": {\"annotationdefaults\": {\"arrowcolor\": \"#2a3f5f\", \"arrowhead\": 0, \"arrowwidth\": 1}, \"coloraxis\": {\"colorbar\": {\"outlinewidth\": 0, \"ticks\": \"\"}}, \"colorscale\": {\"diverging\": [[0, \"#8e0152\"], [0.1, \"#c51b7d\"], [0.2, \"#de77ae\"], [0.3, \"#f1b6da\"], [0.4, \"#fde0ef\"], [0.5, \"#f7f7f7\"], [0.6, \"#e6f5d0\"], [0.7, \"#b8e186\"], [0.8, \"#7fbc41\"], [0.9, \"#4d9221\"], [1, \"#276419\"]], \"sequential\": [[0.0, \"#0d0887\"], [0.1111111111111111, \"#46039f\"], [0.2222222222222222, \"#7201a8\"], [0.3333333333333333, \"#9c179e\"], [0.4444444444444444, \"#bd3786\"], [0.5555555555555556, \"#d8576b\"], [0.6666666666666666, \"#ed7953\"], [0.7777777777777778, \"#fb9f3a\"], [0.8888888888888888, \"#fdca26\"], [1.0, \"#f0f921\"]], \"sequentialminus\": [[0.0, \"#0d0887\"], [0.1111111111111111, \"#46039f\"], [0.2222222222222222, \"#7201a8\"], [0.3333333333333333, \"#9c179e\"], [0.4444444444444444, \"#bd3786\"], [0.5555555555555556, \"#d8576b\"], [0.6666666666666666, \"#ed7953\"], [0.7777777777777778, \"#fb9f3a\"], [0.8888888888888888, \"#fdca26\"], [1.0, \"#f0f921\"]]}, \"colorway\": [\"#636efa\", \"#EF553B\", \"#00cc96\", \"#ab63fa\", \"#FFA15A\", \"#19d3f3\", \"#FF6692\", \"#B6E880\", \"#FF97FF\", \"#FECB52\"], \"font\": {\"color\": \"#2a3f5f\"}, \"geo\": {\"bgcolor\": \"white\", \"lakecolor\": \"white\", \"landcolor\": \"#E5ECF6\", \"showlakes\": true, \"showland\": true, \"subunitcolor\": \"white\"}, \"hoverlabel\": {\"align\": \"left\"}, \"hovermode\": \"closest\", \"mapbox\": {\"style\": \"light\"}, \"paper_bgcolor\": \"white\", \"plot_bgcolor\": \"#E5ECF6\", \"polar\": {\"angularaxis\": {\"gridcolor\": \"white\", \"linecolor\": \"white\", \"ticks\": \"\"}, \"bgcolor\": \"#E5ECF6\", \"radialaxis\": {\"gridcolor\": \"white\", \"linecolor\": \"white\", \"ticks\": \"\"}}, \"scene\": {\"xaxis\": {\"backgroundcolor\": \"#E5ECF6\", \"gridcolor\": \"white\", \"gridwidth\": 2, \"linecolor\": \"white\", \"showbackground\": true, \"ticks\": \"\", \"zerolinecolor\": \"white\"}, \"yaxis\": {\"backgroundcolor\": \"#E5ECF6\", \"gridcolor\": \"white\", \"gridwidth\": 2, \"linecolor\": \"white\", \"showbackground\": true, \"ticks\": \"\", \"zerolinecolor\": \"white\"}, \"zaxis\": {\"backgroundcolor\": \"#E5ECF6\", \"gridcolor\": \"white\", \"gridwidth\": 2, \"linecolor\": \"white\", \"showbackground\": true, \"ticks\": \"\", \"zerolinecolor\": \"white\"}}, \"shapedefaults\": {\"line\": {\"color\": \"#2a3f5f\"}}, \"ternary\": {\"aaxis\": {\"gridcolor\": \"white\", \"linecolor\": \"white\", \"ticks\": \"\"}, \"baxis\": {\"gridcolor\": \"white\", \"linecolor\": \"white\", \"ticks\": \"\"}, \"bgcolor\": \"#E5ECF6\", \"caxis\": {\"gridcolor\": \"white\", \"linecolor\": \"white\", \"ticks\": \"\"}}, \"title\": {\"x\": 0.05}, \"xaxis\": {\"automargin\": true, \"gridcolor\": \"white\", \"linecolor\": \"white\", \"ticks\": \"\", \"title\": {\"standoff\": 15}, \"zerolinecolor\": \"white\", \"zerolinewidth\": 2}, \"yaxis\": {\"automargin\": true, \"gridcolor\": \"white\", \"linecolor\": \"white\", \"ticks\": \"\", \"title\": {\"standoff\": 15}, \"zerolinecolor\": \"white\", \"zerolinewidth\": 2}}}, \"xaxis\": {\"anchor\": \"y\", \"domain\": [0.0, 1.0], \"title\": {\"text\": \"x\"}}, \"yaxis\": {\"anchor\": \"x\", \"domain\": [0.0, 1.0], \"title\": {\"text\": \"y\"}}},\n",
              "                        {\"responsive\": true}\n",
              "                    ).then(function(){\n",
              "                            \n",
              "var gd = document.getElementById('0157f9ef-8373-4efd-9d1c-36d7719756f0');\n",
              "var x = new MutationObserver(function (mutations, observer) {{\n",
              "        var display = window.getComputedStyle(gd).display;\n",
              "        if (!display || display === 'none') {{\n",
              "            console.log([gd, 'removed!']);\n",
              "            Plotly.purge(gd);\n",
              "            observer.disconnect();\n",
              "        }}\n",
              "}});\n",
              "\n",
              "// Listen for the removal of the full notebook cells\n",
              "var notebookContainer = gd.closest('#notebook-container');\n",
              "if (notebookContainer) {{\n",
              "    x.observe(notebookContainer, {childList: true});\n",
              "}}\n",
              "\n",
              "// Listen for the clearing of the current output cell\n",
              "var outputEl = gd.closest('.output');\n",
              "if (outputEl) {{\n",
              "    x.observe(outputEl, {childList: true});\n",
              "}}\n",
              "\n",
              "                        })\n",
              "                };\n",
              "                \n",
              "            </script>\n",
              "        </div>\n",
              "</body>\n",
              "</html>"
            ]
          },
          "metadata": {
            "tags": []
          }
        }
      ]
    },
    {
      "cell_type": "code",
      "metadata": {
        "id": "nxGwdFV8cvvC",
        "colab_type": "code",
        "colab": {}
      },
      "source": [
        "xy=np.array(list(zip(longitud,latitud)))"
      ],
      "execution_count": 9,
      "outputs": []
    },
    {
      "cell_type": "code",
      "metadata": {
        "id": "O6uKgcR-c2CG",
        "colab_type": "code",
        "colab": {
          "base_uri": "https://localhost:8080/",
          "height": 190
        },
        "outputId": "8a228d21-17b9-406d-9acc-4cb7cc003991"
      },
      "source": [
        "xy"
      ],
      "execution_count": 10,
      "outputs": [
        {
          "output_type": "execute_result",
          "data": {
            "text/plain": [
              "array([[-109.6699348 ,   22.82254546],\n",
              "       [-105.6176406 ,   21.87396039],\n",
              "       [-113.13509911,   21.08800552],\n",
              "       [-102.3467356 ,   24.27418792],\n",
              "       [-110.31682821,   25.32547259],\n",
              "       [-114.48555437,   26.19645719],\n",
              "       [-112.87887082,   22.3290682 ],\n",
              "       [-117.7051661 ,   20.25495623],\n",
              "       [-117.59489811,   22.44989631],\n",
              "       [-106.18942879,   25.28597205]])"
            ]
          },
          "metadata": {
            "tags": []
          },
          "execution_count": 10
        }
      ]
    },
    {
      "cell_type": "code",
      "metadata": {
        "id": "RZe5-yVDtBpu",
        "colab_type": "code",
        "colab": {
          "base_uri": "https://localhost:8080/",
          "height": 363
        },
        "outputId": "6a01720c-56ec-4e53-8547-553a16d06089"
      },
      "source": [
        "distancias = cdist(xy, xy, 'euclidean')\n",
        "#np.where( Y==np.min(Y[np.nonzero(Y)]))\n",
        "distancias"
      ],
      "execution_count": 11,
      "outputs": [
        {
          "output_type": "execute_result",
          "data": {
            "text/plain": [
              "array([[ 0.        ,  4.16183876,  3.87504742,  7.46568901,  2.5851722 ,\n",
              "         5.8799211 ,  3.24665831,  8.43548793,  7.93371986,  4.26408169],\n",
              "       [ 4.16183876,  0.        ,  7.55843287,  4.05708168,  5.83054892,\n",
              "         9.86528627,  7.2754785 , 12.1954683 , 11.99109668,  3.45959034],\n",
              "       [ 3.87504742,  7.55843287,  0.        , 11.24902421,  5.08908421,\n",
              "         5.28393867,  1.26723696,  4.64537226,  4.66310557,  8.11574145],\n",
              "       [ 7.46568901,  4.05708168, 11.24902421,  0.        ,  8.03912779,\n",
              "        12.29007893, 10.7102457 , 15.87562946, 15.35690398,  3.97366306],\n",
              "       [ 2.5851722 ,  5.83054892,  5.08908421,  8.03912779,  0.        ,\n",
              "         4.258743  ,  3.94239795,  8.96089688,  7.82555048,  4.12758843],\n",
              "       [ 5.8799211 ,  9.86528627,  5.28393867, 12.29007893,  4.258743  ,\n",
              "         0.        ,  4.18785502,  6.75776097,  4.86875106,  8.3459381 ],\n",
              "       [ 3.24665831,  7.2754785 ,  1.26723696, 10.7102457 ,  3.94239795,\n",
              "         4.18785502,  0.        ,  5.25310067,  4.71757489,  7.31381672],\n",
              "       [ 8.43548793, 12.1954683 ,  4.64537226, 15.87562946,  8.96089688,\n",
              "         6.75776097,  5.25310067,  0.        ,  2.19770812, 12.56675479],\n",
              "       [ 7.93371986, 11.99109668,  4.66310557, 15.35690398,  7.82555048,\n",
              "         4.86875106,  4.71757489,  2.19770812,  0.        , 11.75278928],\n",
              "       [ 4.26408169,  3.45959034,  8.11574145,  3.97366306,  4.12758843,\n",
              "         8.3459381 ,  7.31381672, 12.56675479, 11.75278928,  0.        ]])"
            ]
          },
          "metadata": {
            "tags": []
          },
          "execution_count": 11
        }
      ]
    },
    {
      "cell_type": "markdown",
      "metadata": {
        "id": "LT25FY0CmJev",
        "colab_type": "text"
      },
      "source": [
        "![texto alternativo](https://miro.medium.com/max/748/1*wP8ubuQEIrtxtfd-DTOTig.jpeg)"
      ]
    },
    {
      "cell_type": "code",
      "metadata": {
        "id": "KwjA5LADmB0i",
        "colab_type": "code",
        "colab": {}
      },
      "source": [
        "import pandas as pd"
      ],
      "execution_count": 13,
      "outputs": []
    },
    {
      "cell_type": "code",
      "metadata": {
        "id": "j9IvPghwc4TS",
        "colab_type": "code",
        "colab": {}
      },
      "source": [
        "distancias_df=pd.DataFrame(data=distancias)"
      ],
      "execution_count": 14,
      "outputs": []
    },
    {
      "cell_type": "code",
      "metadata": {
        "id": "j6451vZffAJ_",
        "colab_type": "code",
        "colab": {
          "base_uri": "https://localhost:8080/",
          "height": 348
        },
        "outputId": "36d561bc-71a7-417b-bb6d-6ee965e4e6c4"
      },
      "source": [
        "distancias_df"
      ],
      "execution_count": 15,
      "outputs": [
        {
          "output_type": "execute_result",
          "data": {
            "text/html": [
              "<div>\n",
              "<style scoped>\n",
              "    .dataframe tbody tr th:only-of-type {\n",
              "        vertical-align: middle;\n",
              "    }\n",
              "\n",
              "    .dataframe tbody tr th {\n",
              "        vertical-align: top;\n",
              "    }\n",
              "\n",
              "    .dataframe thead th {\n",
              "        text-align: right;\n",
              "    }\n",
              "</style>\n",
              "<table border=\"1\" class=\"dataframe\">\n",
              "  <thead>\n",
              "    <tr style=\"text-align: right;\">\n",
              "      <th></th>\n",
              "      <th>0</th>\n",
              "      <th>1</th>\n",
              "      <th>2</th>\n",
              "      <th>3</th>\n",
              "      <th>4</th>\n",
              "      <th>5</th>\n",
              "      <th>6</th>\n",
              "      <th>7</th>\n",
              "      <th>8</th>\n",
              "      <th>9</th>\n",
              "    </tr>\n",
              "  </thead>\n",
              "  <tbody>\n",
              "    <tr>\n",
              "      <th>0</th>\n",
              "      <td>0.000000</td>\n",
              "      <td>4.161839</td>\n",
              "      <td>3.875047</td>\n",
              "      <td>7.465689</td>\n",
              "      <td>2.585172</td>\n",
              "      <td>5.879921</td>\n",
              "      <td>3.246658</td>\n",
              "      <td>8.435488</td>\n",
              "      <td>7.933720</td>\n",
              "      <td>4.264082</td>\n",
              "    </tr>\n",
              "    <tr>\n",
              "      <th>1</th>\n",
              "      <td>4.161839</td>\n",
              "      <td>0.000000</td>\n",
              "      <td>7.558433</td>\n",
              "      <td>4.057082</td>\n",
              "      <td>5.830549</td>\n",
              "      <td>9.865286</td>\n",
              "      <td>7.275478</td>\n",
              "      <td>12.195468</td>\n",
              "      <td>11.991097</td>\n",
              "      <td>3.459590</td>\n",
              "    </tr>\n",
              "    <tr>\n",
              "      <th>2</th>\n",
              "      <td>3.875047</td>\n",
              "      <td>7.558433</td>\n",
              "      <td>0.000000</td>\n",
              "      <td>11.249024</td>\n",
              "      <td>5.089084</td>\n",
              "      <td>5.283939</td>\n",
              "      <td>1.267237</td>\n",
              "      <td>4.645372</td>\n",
              "      <td>4.663106</td>\n",
              "      <td>8.115741</td>\n",
              "    </tr>\n",
              "    <tr>\n",
              "      <th>3</th>\n",
              "      <td>7.465689</td>\n",
              "      <td>4.057082</td>\n",
              "      <td>11.249024</td>\n",
              "      <td>0.000000</td>\n",
              "      <td>8.039128</td>\n",
              "      <td>12.290079</td>\n",
              "      <td>10.710246</td>\n",
              "      <td>15.875629</td>\n",
              "      <td>15.356904</td>\n",
              "      <td>3.973663</td>\n",
              "    </tr>\n",
              "    <tr>\n",
              "      <th>4</th>\n",
              "      <td>2.585172</td>\n",
              "      <td>5.830549</td>\n",
              "      <td>5.089084</td>\n",
              "      <td>8.039128</td>\n",
              "      <td>0.000000</td>\n",
              "      <td>4.258743</td>\n",
              "      <td>3.942398</td>\n",
              "      <td>8.960897</td>\n",
              "      <td>7.825550</td>\n",
              "      <td>4.127588</td>\n",
              "    </tr>\n",
              "    <tr>\n",
              "      <th>5</th>\n",
              "      <td>5.879921</td>\n",
              "      <td>9.865286</td>\n",
              "      <td>5.283939</td>\n",
              "      <td>12.290079</td>\n",
              "      <td>4.258743</td>\n",
              "      <td>0.000000</td>\n",
              "      <td>4.187855</td>\n",
              "      <td>6.757761</td>\n",
              "      <td>4.868751</td>\n",
              "      <td>8.345938</td>\n",
              "    </tr>\n",
              "    <tr>\n",
              "      <th>6</th>\n",
              "      <td>3.246658</td>\n",
              "      <td>7.275478</td>\n",
              "      <td>1.267237</td>\n",
              "      <td>10.710246</td>\n",
              "      <td>3.942398</td>\n",
              "      <td>4.187855</td>\n",
              "      <td>0.000000</td>\n",
              "      <td>5.253101</td>\n",
              "      <td>4.717575</td>\n",
              "      <td>7.313817</td>\n",
              "    </tr>\n",
              "    <tr>\n",
              "      <th>7</th>\n",
              "      <td>8.435488</td>\n",
              "      <td>12.195468</td>\n",
              "      <td>4.645372</td>\n",
              "      <td>15.875629</td>\n",
              "      <td>8.960897</td>\n",
              "      <td>6.757761</td>\n",
              "      <td>5.253101</td>\n",
              "      <td>0.000000</td>\n",
              "      <td>2.197708</td>\n",
              "      <td>12.566755</td>\n",
              "    </tr>\n",
              "    <tr>\n",
              "      <th>8</th>\n",
              "      <td>7.933720</td>\n",
              "      <td>11.991097</td>\n",
              "      <td>4.663106</td>\n",
              "      <td>15.356904</td>\n",
              "      <td>7.825550</td>\n",
              "      <td>4.868751</td>\n",
              "      <td>4.717575</td>\n",
              "      <td>2.197708</td>\n",
              "      <td>0.000000</td>\n",
              "      <td>11.752789</td>\n",
              "    </tr>\n",
              "    <tr>\n",
              "      <th>9</th>\n",
              "      <td>4.264082</td>\n",
              "      <td>3.459590</td>\n",
              "      <td>8.115741</td>\n",
              "      <td>3.973663</td>\n",
              "      <td>4.127588</td>\n",
              "      <td>8.345938</td>\n",
              "      <td>7.313817</td>\n",
              "      <td>12.566755</td>\n",
              "      <td>11.752789</td>\n",
              "      <td>0.000000</td>\n",
              "    </tr>\n",
              "  </tbody>\n",
              "</table>\n",
              "</div>"
            ],
            "text/plain": [
              "          0          1          2  ...          7          8          9\n",
              "0  0.000000   4.161839   3.875047  ...   8.435488   7.933720   4.264082\n",
              "1  4.161839   0.000000   7.558433  ...  12.195468  11.991097   3.459590\n",
              "2  3.875047   7.558433   0.000000  ...   4.645372   4.663106   8.115741\n",
              "3  7.465689   4.057082  11.249024  ...  15.875629  15.356904   3.973663\n",
              "4  2.585172   5.830549   5.089084  ...   8.960897   7.825550   4.127588\n",
              "5  5.879921   9.865286   5.283939  ...   6.757761   4.868751   8.345938\n",
              "6  3.246658   7.275478   1.267237  ...   5.253101   4.717575   7.313817\n",
              "7  8.435488  12.195468   4.645372  ...   0.000000   2.197708  12.566755\n",
              "8  7.933720  11.991097   4.663106  ...   2.197708   0.000000  11.752789\n",
              "9  4.264082   3.459590   8.115741  ...  12.566755  11.752789   0.000000\n",
              "\n",
              "[10 rows x 10 columns]"
            ]
          },
          "metadata": {
            "tags": []
          },
          "execution_count": 15
        }
      ]
    },
    {
      "cell_type": "code",
      "metadata": {
        "id": "ZeGrxBiaveow",
        "colab_type": "code",
        "colab": {}
      },
      "source": [
        "def vecinos(df,r,i):\n",
        "  return df[df[i] < r][i]"
      ],
      "execution_count": 16,
      "outputs": []
    },
    {
      "cell_type": "markdown",
      "metadata": {
        "id": "uy5_lmXTiYMe",
        "colab_type": "text"
      },
      "source": [
        "# we can get the distances to a given point using `vecinos`"
      ]
    },
    {
      "cell_type": "code",
      "metadata": {
        "id": "g-sTxiROhadt",
        "colab_type": "code",
        "colab": {
          "base_uri": "https://localhost:8080/",
          "height": 121
        },
        "outputId": "a77f5c9e-454e-4a08-8bd5-476d965e453e"
      },
      "source": [
        "radio=5\n",
        "punto=4\n",
        "vec_serie=vecinos(distancias_df,radio,punto)\n",
        "print(vec_serie)"
      ],
      "execution_count": 17,
      "outputs": [
        {
          "output_type": "stream",
          "text": [
            "0    2.585172\n",
            "4    0.000000\n",
            "5    4.258743\n",
            "6    3.942398\n",
            "9    4.127588\n",
            "Name: 4, dtype: float64\n"
          ],
          "name": "stdout"
        }
      ]
    },
    {
      "cell_type": "markdown",
      "metadata": {
        "id": "th0FPCvBkVQn",
        "colab_type": "text"
      },
      "source": [
        ""
      ]
    },
    {
      "cell_type": "markdown",
      "metadata": {
        "id": "NVhlOsOOkY39",
        "colab_type": "text"
      },
      "source": [
        "# An finally, we get the index of those neighbours as a list"
      ]
    },
    {
      "cell_type": "code",
      "metadata": {
        "id": "bRsZ3OrRjOgs",
        "colab_type": "code",
        "colab": {
          "base_uri": "https://localhost:8080/",
          "height": 35
        },
        "outputId": "f4fa48f2-7f61-4cce-d72c-092328f95f58"
      },
      "source": [
        "list(vec_serie.index.values) "
      ],
      "execution_count": 18,
      "outputs": [
        {
          "output_type": "execute_result",
          "data": {
            "text/plain": [
              "[0, 4, 5, 6, 9]"
            ]
          },
          "metadata": {
            "tags": []
          },
          "execution_count": 18
        }
      ]
    },
    {
      "cell_type": "markdown",
      "metadata": {
        "id": "asNPuTR0km38",
        "colab_type": "text"
      },
      "source": [
        "# Homework: find a way to manage all pairs of nearest neighbours, for example, node 4 forms the pairs (4,0), (4,4), (4,5), (4,6), (4,9).\n",
        "\n",
        "Of course we have to drop the pair (4,4)"
      ]
    }
  ]
}