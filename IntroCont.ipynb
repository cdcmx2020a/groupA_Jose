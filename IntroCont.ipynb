{
  "nbformat": 4,
  "nbformat_minor": 0,
  "metadata": {
    "colab": {
      "name": "IntroCont.ipynb",
      "provenance": [],
      "collapsed_sections": [],
      "authorship_tag": "ABX9TyNvvm+HwgGRIvqEnDObAqYV",
      "include_colab_link": true
    },
    "kernelspec": {
      "name": "python3",
      "display_name": "Python 3"
    }
  },
  "cells": [
    {
      "cell_type": "markdown",
      "metadata": {
        "id": "view-in-github",
        "colab_type": "text"
      },
      "source": [
        "<a href=\"https://colab.research.google.com/github/cdcmx2020a/groupA_Jose/blob/master/IntroCont.ipynb\" target=\"_parent\"><img src=\"https://colab.research.google.com/assets/colab-badge.svg\" alt=\"Open In Colab\"/></a>"
      ]
    },
    {
      "cell_type": "markdown",
      "metadata": {
        "id": "qSe5GL6aM01x",
        "colab_type": "text"
      },
      "source": [
        "# Introduction and basics of the Task\n",
        "## Today we are going to use some libraries to make things easier ...\n",
        "\n",
        "\n",
        "*   numpy\n",
        "*   scipy\n",
        "*   plotly\n",
        "\n"
      ]
    },
    {
      "cell_type": "markdown",
      "metadata": {
        "id": "mkhuW4IQYbEo",
        "colab_type": "text"
      },
      "source": [
        "![texto alternativo](https://miro.medium.com/max/432/1*jTW7doI_cqC_p9XQrmuu9A.png)\n",
        "\n",
        "## In this example, the graph consists of 4 points linked by arrows. We call the points \"nodes\" and the arrows \"edges\".\n",
        "\n",
        "Here we will build some graph using random positions and they will be connected based on the proximity of their neighbors.\n",
        "\n",
        "![texto alternativo](https://github.com/napoles-uach/figuras/blob/master/nn1.png?raw=true)\n",
        "\n"
      ]
    },
    {
      "cell_type": "markdown",
      "metadata": {
        "id": "hdOMH4L_Vi5p",
        "colab_type": "text"
      },
      "source": [
        "\n",
        "\n",
        "---\n",
        "\n",
        "\n",
        "\n",
        "---\n",
        "\n"
      ]
    },
    {
      "cell_type": "markdown",
      "metadata": {
        "id": "bysDK0dGVmKO",
        "colab_type": "text"
      },
      "source": [
        "# **`Numpy `** is perhaps the most important library we will use. Once imported, we are able to do numerical operations. "
      ]
    },
    {
      "cell_type": "code",
      "metadata": {
        "id": "2q9uegHvRhu9",
        "colab_type": "code",
        "colab": {}
      },
      "source": [
        "import numpy as np"
      ],
      "execution_count": 1,
      "outputs": []
    },
    {
      "cell_type": "markdown",
      "metadata": {
        "id": "b0OqzVNFV73K",
        "colab_type": "text"
      },
      "source": [
        "## Now, Python knows what is $\\pi$, and $\\cos(\\pi/4)$:"
      ]
    },
    {
      "cell_type": "code",
      "metadata": {
        "id": "b5ucGqg9WWM0",
        "colab_type": "code",
        "colab": {
          "base_uri": "https://localhost:8080/",
          "height": 34
        },
        "outputId": "2d809eb6-605c-4e9d-e9f1-455e551139c5"
      },
      "source": [
        "pi= np.pi\n",
        "copi= np.cos(pi/4)\n",
        "\n",
        "print(pi,copi)"
      ],
      "execution_count": 2,
      "outputs": [
        {
          "output_type": "stream",
          "text": [
            "3.141592653589793 0.7071067811865476\n"
          ],
          "name": "stdout"
        }
      ]
    },
    {
      "cell_type": "markdown",
      "metadata": {
        "id": "tpaN4uvBXGSm",
        "colab_type": "text"
      },
      "source": [
        "If you want something more fancy:"
      ]
    },
    {
      "cell_type": "code",
      "metadata": {
        "id": "XIuUmbPKXLE0",
        "colab_type": "code",
        "colab": {
          "base_uri": "https://localhost:8080/",
          "height": 34
        },
        "outputId": "6ac29a88-86d2-4d39-d90f-5c3694238408"
      },
      "source": [
        "print(\"pi = \",pi, \"cos(pi/4) = \",copi)"
      ],
      "execution_count": 3,
      "outputs": [
        {
          "output_type": "stream",
          "text": [
            "pi =  3.141592653589793 cos(pi/4) =  0.7071067811865476\n"
          ],
          "name": "stdout"
        }
      ]
    },
    {
      "cell_type": "markdown",
      "metadata": {
        "id": "tGYfb4BvXZtx",
        "colab_type": "text"
      },
      "source": [
        "well, more or less ... "
      ]
    },
    {
      "cell_type": "markdown",
      "metadata": {
        "id": "UhgPgXRkYQsA",
        "colab_type": "text"
      },
      "source": [
        "# How do you evaluate the distance between two points?\n",
        "\n",
        "R: yes, **Pythagorean theorem**.\n",
        "\n",
        "![texto alternativo](https://4.bp.blogspot.com/-aYH9XG-HEMo/WlEtO_gzW7I/AAAAAAAAACo/eYa9Gym9Kck9lWZO9WTO-dyx2_cX5DKVQCLcBGAs/s1600/perimetro-de-un-triangulo.jpg)\n",
        "\n",
        "Now, with python:"
      ]
    },
    {
      "cell_type": "code",
      "metadata": {
        "id": "jIP86D7tYe67",
        "colab_type": "code",
        "colab": {
          "base_uri": "https://localhost:8080/",
          "height": 34
        },
        "outputId": "b9396f6f-d085-4326-9e61-eba6ca410be9"
      },
      "source": [
        "from scipy.spatial import distance\n",
        "a1 = (0, 0)\n",
        "a2 = (3, 4)\n",
        "d = distance.euclidean(a1, a2)\n",
        "print(\"Euclidean distance: \",d)"
      ],
      "execution_count": 4,
      "outputs": [
        {
          "output_type": "stream",
          "text": [
            "Euclidean distance:  5.0\n"
          ],
          "name": "stdout"
        }
      ]
    },
    {
      "cell_type": "markdown",
      "metadata": {
        "id": "41xEHMm6aPLo",
        "colab_type": "text"
      },
      "source": [
        "#Now, doing this for many point is not practical, so we can use another function called `cdist`"
      ]
    },
    {
      "cell_type": "code",
      "metadata": {
        "id": "-_PT7ASjo2Wq",
        "colab_type": "code",
        "colab": {}
      },
      "source": [
        "from scipy.spatial.distance import cdist"
      ],
      "execution_count": 5,
      "outputs": []
    },
    {
      "cell_type": "markdown",
      "metadata": {
        "id": "CaKhV1Hraudx",
        "colab_type": "text"
      },
      "source": [
        "# But now we need those points. Here we can create these coordinates using random numbers!!!\n",
        "\n",
        "![texto alternativo](https://spicyyoghurt.com/img/tutorials/headers/large/random_header.jpg)"
      ]
    },
    {
      "cell_type": "code",
      "metadata": {
        "id": "mzEQqx19YhKC",
        "colab_type": "code",
        "colab": {}
      },
      "source": [
        "np.random.seed(1973)\n",
        "N=10\n",
        "longitud = np.random.uniform(20,30, size=(N, ))\n",
        "latitud = np.random.uniform(20,30, size=(N, ))\n"
      ],
      "execution_count": 6,
      "outputs": []
    },
    {
      "cell_type": "markdown",
      "metadata": {
        "id": "2Tz8j7Wgb9fa",
        "colab_type": "text"
      },
      "source": [
        "### Print longitud and latitud to see how they look. Feel free to change the parameters to see what happens."
      ]
    },
    {
      "cell_type": "code",
      "metadata": {
        "id": "aSQRsENycNlW",
        "colab_type": "code",
        "colab": {
          "base_uri": "https://localhost:8080/",
          "height": 51
        },
        "outputId": "232da882-1fd8-4a1c-db08-3eebe104b085"
      },
      "source": [
        "print(\"longitud: \", latitud)"
      ],
      "execution_count": 7,
      "outputs": [
        {
          "output_type": "stream",
          "text": [
            "longitud:  [22.82254546 21.87396039 21.08800552 24.27418792 25.32547259 26.19645719\n",
            " 22.3290682  20.25495623 22.44989631 25.28597205]\n"
          ],
          "name": "stdout"
        }
      ]
    },
    {
      "cell_type": "markdown",
      "metadata": {
        "id": "_UYIx8Cqc9Av",
        "colab_type": "text"
      },
      "source": [
        "# Now we can see them on the plane using `plotly`."
      ]
    },
    {
      "cell_type": "code",
      "metadata": {
        "id": "nxGwdFV8cvvC",
        "colab_type": "code",
        "colab": {}
      },
      "source": [
        "xy=np.array(list(zip(longitud,latitud)))"
      ],
      "execution_count": 8,
      "outputs": []
    },
    {
      "cell_type": "code",
      "metadata": {
        "id": "O6uKgcR-c2CG",
        "colab_type": "code",
        "colab": {
          "base_uri": "https://localhost:8080/",
          "height": 187
        },
        "outputId": "71b8b93d-5140-44eb-992d-4b70644617d0"
      },
      "source": [
        "xy"
      ],
      "execution_count": 9,
      "outputs": [
        {
          "output_type": "execute_result",
          "data": {
            "text/plain": [
              "array([[24.8349674 , 22.82254546],\n",
              "       [22.8088203 , 21.87396039],\n",
              "       [26.56754956, 21.08800552],\n",
              "       [21.1733678 , 24.27418792],\n",
              "       [25.15841411, 25.32547259],\n",
              "       [27.24277718, 26.19645719],\n",
              "       [26.43943541, 22.3290682 ],\n",
              "       [28.85258305, 20.25495623],\n",
              "       [28.79744905, 22.44989631],\n",
              "       [23.09471439, 25.28597205]])"
            ]
          },
          "metadata": {
            "tags": []
          },
          "execution_count": 9
        }
      ]
    },
    {
      "cell_type": "code",
      "metadata": {
        "id": "RZe5-yVDtBpu",
        "colab_type": "code",
        "colab": {
          "base_uri": "https://localhost:8080/",
          "height": 357
        },
        "outputId": "f881721d-7d84-4a1d-9b59-a14cc8c6c1b1"
      },
      "source": [
        "distancias = cdist(xy, xy, 'euclidean')\n",
        "#np.where( Y==np.min(Y[np.nonzero(Y)]))\n",
        "distancias"
      ],
      "execution_count": 10,
      "outputs": [
        {
          "output_type": "execute_result",
          "data": {
            "text/plain": [
              "array([[0.        , 2.23720489, 2.45162594, 3.93885484, 2.52373968,\n",
              "        4.14497627, 1.67864154, 4.76799224, 3.97996586, 3.01611523],\n",
              "       [2.23720489, 0.        , 3.84002222, 2.90444437, 4.17534759,\n",
              "        6.19224937, 3.65902845, 6.25685565, 6.01625935, 3.42396832],\n",
              "       [2.45162594, 3.84002222, 0.        , 6.26489865, 4.46562313,\n",
              "        5.15288374, 1.24765773, 2.43214909, 2.61289079, 5.44825725],\n",
              "       [3.93885484, 2.90444437, 6.26489865, 0.        , 4.12138248,\n",
              "        6.3665414 , 5.61381856, 8.66744312, 7.83930194, 2.17146952],\n",
              "       [2.52373968, 4.17534759, 4.46562313, 4.12138248, 0.        ,\n",
              "        2.25902271, 3.25875051, 6.27351739, 4.6380507 , 2.06407771],\n",
              "       [4.14497627, 6.19224937, 5.15288374, 6.3665414 , 2.25902271,\n",
              "        0.        , 3.94994375, 6.15572161, 4.0563189 , 4.24681152],\n",
              "       [1.67864154, 3.65902845, 1.24765773, 5.61381856, 3.25875051,\n",
              "        3.94994375, 0.        , 3.1820154 , 2.36110732, 4.46435203],\n",
              "       [4.76799224, 6.25685565, 2.43214909, 8.66744312, 6.27351739,\n",
              "        6.15572161, 3.1820154 , 0.        , 2.19563242, 7.64618674],\n",
              "       [3.97996586, 6.01625935, 2.61289079, 7.83930194, 4.6380507 ,\n",
              "        4.0563189 , 2.36110732, 2.19563242, 0.        , 6.36902726],\n",
              "       [3.01611523, 3.42396832, 5.44825725, 2.17146952, 2.06407771,\n",
              "        4.24681152, 4.46435203, 7.64618674, 6.36902726, 0.        ]])"
            ]
          },
          "metadata": {
            "tags": []
          },
          "execution_count": 10
        }
      ]
    },
    {
      "cell_type": "markdown",
      "metadata": {
        "id": "LT25FY0CmJev",
        "colab_type": "text"
      },
      "source": [
        "![texto alternativo](https://miro.medium.com/max/748/1*wP8ubuQEIrtxtfd-DTOTig.jpeg)"
      ]
    },
    {
      "cell_type": "code",
      "metadata": {
        "id": "KwjA5LADmB0i",
        "colab_type": "code",
        "colab": {}
      },
      "source": [
        "import pandas as pd"
      ],
      "execution_count": 11,
      "outputs": []
    },
    {
      "cell_type": "code",
      "metadata": {
        "id": "j9IvPghwc4TS",
        "colab_type": "code",
        "colab": {}
      },
      "source": [
        "distancias_df=pd.DataFrame(data=distancias)"
      ],
      "execution_count": 12,
      "outputs": []
    },
    {
      "cell_type": "code",
      "metadata": {
        "id": "j6451vZffAJ_",
        "colab_type": "code",
        "colab": {
          "base_uri": "https://localhost:8080/",
          "height": 359
        },
        "outputId": "e9131eb3-82e2-4633-9197-6d151804770a"
      },
      "source": [
        "distancias_df"
      ],
      "execution_count": 13,
      "outputs": [
        {
          "output_type": "execute_result",
          "data": {
            "text/html": [
              "<div>\n",
              "<style scoped>\n",
              "    .dataframe tbody tr th:only-of-type {\n",
              "        vertical-align: middle;\n",
              "    }\n",
              "\n",
              "    .dataframe tbody tr th {\n",
              "        vertical-align: top;\n",
              "    }\n",
              "\n",
              "    .dataframe thead th {\n",
              "        text-align: right;\n",
              "    }\n",
              "</style>\n",
              "<table border=\"1\" class=\"dataframe\">\n",
              "  <thead>\n",
              "    <tr style=\"text-align: right;\">\n",
              "      <th></th>\n",
              "      <th>0</th>\n",
              "      <th>1</th>\n",
              "      <th>2</th>\n",
              "      <th>3</th>\n",
              "      <th>4</th>\n",
              "      <th>5</th>\n",
              "      <th>6</th>\n",
              "      <th>7</th>\n",
              "      <th>8</th>\n",
              "      <th>9</th>\n",
              "    </tr>\n",
              "  </thead>\n",
              "  <tbody>\n",
              "    <tr>\n",
              "      <th>0</th>\n",
              "      <td>0.000000</td>\n",
              "      <td>2.237205</td>\n",
              "      <td>2.451626</td>\n",
              "      <td>3.938855</td>\n",
              "      <td>2.523740</td>\n",
              "      <td>4.144976</td>\n",
              "      <td>1.678642</td>\n",
              "      <td>4.767992</td>\n",
              "      <td>3.979966</td>\n",
              "      <td>3.016115</td>\n",
              "    </tr>\n",
              "    <tr>\n",
              "      <th>1</th>\n",
              "      <td>2.237205</td>\n",
              "      <td>0.000000</td>\n",
              "      <td>3.840022</td>\n",
              "      <td>2.904444</td>\n",
              "      <td>4.175348</td>\n",
              "      <td>6.192249</td>\n",
              "      <td>3.659028</td>\n",
              "      <td>6.256856</td>\n",
              "      <td>6.016259</td>\n",
              "      <td>3.423968</td>\n",
              "    </tr>\n",
              "    <tr>\n",
              "      <th>2</th>\n",
              "      <td>2.451626</td>\n",
              "      <td>3.840022</td>\n",
              "      <td>0.000000</td>\n",
              "      <td>6.264899</td>\n",
              "      <td>4.465623</td>\n",
              "      <td>5.152884</td>\n",
              "      <td>1.247658</td>\n",
              "      <td>2.432149</td>\n",
              "      <td>2.612891</td>\n",
              "      <td>5.448257</td>\n",
              "    </tr>\n",
              "    <tr>\n",
              "      <th>3</th>\n",
              "      <td>3.938855</td>\n",
              "      <td>2.904444</td>\n",
              "      <td>6.264899</td>\n",
              "      <td>0.000000</td>\n",
              "      <td>4.121382</td>\n",
              "      <td>6.366541</td>\n",
              "      <td>5.613819</td>\n",
              "      <td>8.667443</td>\n",
              "      <td>7.839302</td>\n",
              "      <td>2.171470</td>\n",
              "    </tr>\n",
              "    <tr>\n",
              "      <th>4</th>\n",
              "      <td>2.523740</td>\n",
              "      <td>4.175348</td>\n",
              "      <td>4.465623</td>\n",
              "      <td>4.121382</td>\n",
              "      <td>0.000000</td>\n",
              "      <td>2.259023</td>\n",
              "      <td>3.258751</td>\n",
              "      <td>6.273517</td>\n",
              "      <td>4.638051</td>\n",
              "      <td>2.064078</td>\n",
              "    </tr>\n",
              "    <tr>\n",
              "      <th>5</th>\n",
              "      <td>4.144976</td>\n",
              "      <td>6.192249</td>\n",
              "      <td>5.152884</td>\n",
              "      <td>6.366541</td>\n",
              "      <td>2.259023</td>\n",
              "      <td>0.000000</td>\n",
              "      <td>3.949944</td>\n",
              "      <td>6.155722</td>\n",
              "      <td>4.056319</td>\n",
              "      <td>4.246812</td>\n",
              "    </tr>\n",
              "    <tr>\n",
              "      <th>6</th>\n",
              "      <td>1.678642</td>\n",
              "      <td>3.659028</td>\n",
              "      <td>1.247658</td>\n",
              "      <td>5.613819</td>\n",
              "      <td>3.258751</td>\n",
              "      <td>3.949944</td>\n",
              "      <td>0.000000</td>\n",
              "      <td>3.182015</td>\n",
              "      <td>2.361107</td>\n",
              "      <td>4.464352</td>\n",
              "    </tr>\n",
              "    <tr>\n",
              "      <th>7</th>\n",
              "      <td>4.767992</td>\n",
              "      <td>6.256856</td>\n",
              "      <td>2.432149</td>\n",
              "      <td>8.667443</td>\n",
              "      <td>6.273517</td>\n",
              "      <td>6.155722</td>\n",
              "      <td>3.182015</td>\n",
              "      <td>0.000000</td>\n",
              "      <td>2.195632</td>\n",
              "      <td>7.646187</td>\n",
              "    </tr>\n",
              "    <tr>\n",
              "      <th>8</th>\n",
              "      <td>3.979966</td>\n",
              "      <td>6.016259</td>\n",
              "      <td>2.612891</td>\n",
              "      <td>7.839302</td>\n",
              "      <td>4.638051</td>\n",
              "      <td>4.056319</td>\n",
              "      <td>2.361107</td>\n",
              "      <td>2.195632</td>\n",
              "      <td>0.000000</td>\n",
              "      <td>6.369027</td>\n",
              "    </tr>\n",
              "    <tr>\n",
              "      <th>9</th>\n",
              "      <td>3.016115</td>\n",
              "      <td>3.423968</td>\n",
              "      <td>5.448257</td>\n",
              "      <td>2.171470</td>\n",
              "      <td>2.064078</td>\n",
              "      <td>4.246812</td>\n",
              "      <td>4.464352</td>\n",
              "      <td>7.646187</td>\n",
              "      <td>6.369027</td>\n",
              "      <td>0.000000</td>\n",
              "    </tr>\n",
              "  </tbody>\n",
              "</table>\n",
              "</div>"
            ],
            "text/plain": [
              "          0         1         2  ...         7         8         9\n",
              "0  0.000000  2.237205  2.451626  ...  4.767992  3.979966  3.016115\n",
              "1  2.237205  0.000000  3.840022  ...  6.256856  6.016259  3.423968\n",
              "2  2.451626  3.840022  0.000000  ...  2.432149  2.612891  5.448257\n",
              "3  3.938855  2.904444  6.264899  ...  8.667443  7.839302  2.171470\n",
              "4  2.523740  4.175348  4.465623  ...  6.273517  4.638051  2.064078\n",
              "5  4.144976  6.192249  5.152884  ...  6.155722  4.056319  4.246812\n",
              "6  1.678642  3.659028  1.247658  ...  3.182015  2.361107  4.464352\n",
              "7  4.767992  6.256856  2.432149  ...  0.000000  2.195632  7.646187\n",
              "8  3.979966  6.016259  2.612891  ...  2.195632  0.000000  6.369027\n",
              "9  3.016115  3.423968  5.448257  ...  7.646187  6.369027  0.000000\n",
              "\n",
              "[10 rows x 10 columns]"
            ]
          },
          "metadata": {
            "tags": []
          },
          "execution_count": 13
        }
      ]
    },
    {
      "cell_type": "code",
      "metadata": {
        "id": "ZeGrxBiaveow",
        "colab_type": "code",
        "colab": {}
      },
      "source": [
        "def vecinos(df,r,i):\n",
        "  return df[df[i] < r][i]"
      ],
      "execution_count": 14,
      "outputs": []
    },
    {
      "cell_type": "markdown",
      "metadata": {
        "id": "uy5_lmXTiYMe",
        "colab_type": "text"
      },
      "source": [
        "# we can get the distances to a given point using `vecinos`"
      ]
    },
    {
      "cell_type": "code",
      "metadata": {
        "id": "g-sTxiROhadt",
        "colab_type": "code",
        "colab": {
          "base_uri": "https://localhost:8080/",
          "height": 102
        },
        "outputId": "26a3ca42-8e47-4006-9ec3-9aa0da1cf5ad"
      },
      "source": [
        "radio=3\n",
        "punto=4\n",
        "vec_serie=vecinos(distancias_df,radio,punto)\n",
        "print(vec_serie)"
      ],
      "execution_count": 15,
      "outputs": [
        {
          "output_type": "stream",
          "text": [
            "0    2.523740\n",
            "4    0.000000\n",
            "5    2.259023\n",
            "9    2.064078\n",
            "Name: 4, dtype: float64\n"
          ],
          "name": "stdout"
        }
      ]
    },
    {
      "cell_type": "code",
      "metadata": {
        "id": "xjQPsX868WWH",
        "colab_type": "code",
        "colab": {
          "base_uri": "https://localhost:8080/",
          "height": 459
        },
        "outputId": "35f0820c-f22b-4eb5-ba5f-bd5c47760e2c"
      },
      "source": [
        "pares=[]\n",
        "for i in np.arange(10):\n",
        "  vec_serie=vecinos(distancias_df,radio,i)\n",
        "  lista=(list(vec_serie.index.values)) \n",
        "  for p in lista:\n",
        "    if (p != i):\n",
        "      pares.append([i,p])\n",
        "      print(i,p)\n",
        "    \n"
      ],
      "execution_count": 16,
      "outputs": [
        {
          "output_type": "stream",
          "text": [
            "0 1\n",
            "0 2\n",
            "0 4\n",
            "0 6\n",
            "1 0\n",
            "1 3\n",
            "2 0\n",
            "2 6\n",
            "2 7\n",
            "2 8\n",
            "3 1\n",
            "3 9\n",
            "4 0\n",
            "4 5\n",
            "4 9\n",
            "5 4\n",
            "6 0\n",
            "6 2\n",
            "6 8\n",
            "7 2\n",
            "7 8\n",
            "8 2\n",
            "8 6\n",
            "8 7\n",
            "9 3\n",
            "9 4\n"
          ],
          "name": "stdout"
        }
      ]
    },
    {
      "cell_type": "code",
      "metadata": {
        "id": "wqcCwToeEXOk",
        "colab_type": "code",
        "colab": {}
      },
      "source": [
        "import networkx as nx\n",
        "import matplotlib.pyplot as plt"
      ],
      "execution_count": 17,
      "outputs": []
    },
    {
      "cell_type": "code",
      "metadata": {
        "id": "6VUGG_OUEcS7",
        "colab_type": "code",
        "colab": {
          "base_uri": "https://localhost:8080/",
          "height": 51
        },
        "outputId": "25bf870e-a1c2-461b-9b9b-0b3371443dcf"
      },
      "source": [
        "G = nx.Graph()\n",
        "#G.add_edges_from(pares)\n",
        "G\n",
        "print('We have %d nodes.' % G.number_of_nodes())\n",
        "print('We have %d edges.' % G.number_of_edges())"
      ],
      "execution_count": 35,
      "outputs": [
        {
          "output_type": "stream",
          "text": [
            "We have 0 nodes.\n",
            "We have 0 edges.\n"
          ],
          "name": "stdout"
        }
      ]
    },
    {
      "cell_type": "code",
      "metadata": {
        "id": "0UxEL7IqbsEC",
        "colab_type": "code",
        "colab": {}
      },
      "source": [
        "for par in pares:\n",
        "  G.add_edge(str(par[0]),str(par[1]))"
      ],
      "execution_count": 36,
      "outputs": []
    },
    {
      "cell_type": "code",
      "metadata": {
        "id": "ML5K_F13b9E-",
        "colab_type": "code",
        "colab": {
          "base_uri": "https://localhost:8080/",
          "height": 51
        },
        "outputId": "85f0399d-f58a-4b85-fe16-be7e5afbe7ec"
      },
      "source": [
        "print('We have %d nodes.' % G.number_of_nodes())\n",
        "print('We have %d edges.' % G.number_of_edges())"
      ],
      "execution_count": 37,
      "outputs": [
        {
          "output_type": "stream",
          "text": [
            "We have 10 nodes.\n",
            "We have 13 edges.\n"
          ],
          "name": "stdout"
        }
      ]
    },
    {
      "cell_type": "code",
      "metadata": {
        "id": "mS0Pj3fFC_YQ",
        "colab_type": "code",
        "colab": {
          "base_uri": "https://localhost:8080/",
          "height": 54
        },
        "outputId": "3b4a4110-80e1-4edb-93dd-796cef708f74"
      },
      "source": [
        "diccio={} # inicializamos el diccionario\n",
        "seed=108  # damos una semilla, prueba a ver que pasa si la cambias!!!\n",
        "for i in np.arange(10):\n",
        "  #np.random.seed(i+seed)\n",
        "  diccio[str(i)]=np.array([longitud[i],latitud[i]])#np.random.uniform(20,30, size=(2, )) # qué significa esta línea?? --> ve el resultado\n",
        "  \n",
        "\n",
        "print(diccio)"
      ],
      "execution_count": 38,
      "outputs": [
        {
          "output_type": "stream",
          "text": [
            "{'0': array([24.8349674 , 22.82254546]), '1': array([22.8088203 , 21.87396039]), '2': array([26.56754956, 21.08800552]), '3': array([21.1733678 , 24.27418792]), '4': array([25.15841411, 25.32547259]), '5': array([27.24277718, 26.19645719]), '6': array([26.43943541, 22.3290682 ]), '7': array([28.85258305, 20.25495623]), '8': array([28.79744905, 22.44989631]), '9': array([23.09471439, 25.28597205])}\n"
          ],
          "name": "stdout"
        }
      ]
    },
    {
      "cell_type": "code",
      "metadata": {
        "id": "RhfiBYw-D4uL",
        "colab_type": "code",
        "colab": {
          "base_uri": "https://localhost:8080/",
          "height": 319
        },
        "outputId": "df1bede5-ddaf-4689-956c-1469ab3757a0"
      },
      "source": [
        "pos=diccio\n",
        "nx.draw(G,pos=pos,with_labels=True)\n",
        "plt.show()"
      ],
      "execution_count": 40,
      "outputs": [
        {
          "output_type": "display_data",
          "data": {
            "image/png": "[encoded data removed]",
            "text/plain": [
              "<Figure size 432x288 with 1 Axes>"
            ]
          },
          "metadata": {
            "tags": []
          }
        }
      ]
    },
    {
      "cell_type": "code",
      "metadata": {
        "id": "xDyA6yJfdyTe",
        "colab_type": "code",
        "colab": {
          "base_uri": "https://localhost:8080/",
          "height": 542
        },
        "outputId": "958df652-08c6-4482-c29a-980911f85071"
      },
      "source": [
        "import plotly.express as px\n",
        "fig = px.scatter(y=latitud,x=longitud,hover_data=[distancias_df.index])\n",
        "fig.show()"
      ],
      "execution_count": 42,
      "outputs": [
        {
          "output_type": "display_data",
          "data": {
            "text/html": [
              "<html>\n",
              "<head><meta charset=\"utf-8\" /></head>\n",
              "<body>\n",
              "    <div>\n",
              "            <script src=\"https://cdnjs.cloudflare.com/ajax/libs/mathjax/2.7.5/MathJax.js?config=TeX-AMS-MML_SVG\"></script><script type=\"text/javascript\">if (window.MathJax) {MathJax.Hub.Config({SVG: {font: \"STIX-Web\"}});}</script>\n",
              "                <script type=\"text/javascript\">window.PlotlyConfig = {MathJaxConfig: 'local'};</script>\n",
              "        <script src=\"https://cdn.plot.ly/plotly-latest.min.js\"></script>    \n",
              "            <div id=\"12939796-25bb-45f9-83ce-757aeaf2447c\" class=\"plotly-graph-div\" style=\"height:525px; width:100%;\"></div>\n",
              "            <script type=\"text/javascript\">\n",
              "                \n",
              "                    window.PLOTLYENV=window.PLOTLYENV || {};\n",
              "                    \n",
              "                if (document.getElementById(\"12939796-25bb-45f9-83ce-757aeaf2447c\")) {\n",
              "                    Plotly.newPlot(\n",
              "                        '12939796-25bb-45f9-83ce-757aeaf2447c',\n",
              "                        [{\"customdata\": [[0], [1], [2], [3], [4], [5], [6], [7], [8], [9]], \"hoverlabel\": {\"namelength\": 0}, \"hovertemplate\": \"x=%{x}<br>y=%{y}<br>hover_data_0=%{customdata[0]}\", \"legendgroup\": \"\", \"marker\": {\"color\": \"#636efa\", \"symbol\": \"circle\"}, \"mode\": \"markers\", \"name\": \"\", \"showlegend\": false, \"type\": \"scatter\", \"x\": [24.834967398871537, 22.808820300401017, 26.56754955566235, 21.173367799873066, 25.158414105716687, 27.242777184448713, 26.439435408775758, 28.852583049514926, 28.79744905306626, 23.09471439476901], \"xaxis\": \"x\", \"y\": [22.822545461832505, 21.87396038921919, 21.088005517853823, 24.274187923268983, 25.32547259214744, 26.196457185571603, 22.329068196519746, 20.254956226979026, 22.449896308052455, 25.28597205275489], \"yaxis\": \"y\"}],\n",
              "                        {\"legend\": {\"tracegroupgap\": 0}, \"margin\": {\"t\": 60}, \"template\": {\"data\": {\"bar\": [{\"error_x\": {\"color\": \"#2a3f5f\"}, \"error_y\": {\"color\": \"#2a3f5f\"}, \"marker\": {\"line\": {\"color\": \"#E5ECF6\", \"width\": 0.5}}, \"type\": \"bar\"}], \"barpolar\": [{\"marker\": {\"line\": {\"color\": \"#E5ECF6\", \"width\": 0.5}}, \"type\": \"barpolar\"}], \"carpet\": [{\"aaxis\": {\"endlinecolor\": \"#2a3f5f\", \"gridcolor\": \"white\", \"linecolor\": \"white\", \"minorgridcolor\": \"white\", \"startlinecolor\": \"#2a3f5f\"}, \"baxis\": {\"endlinecolor\": \"#2a3f5f\", \"gridcolor\": \"white\", \"linecolor\": \"white\", \"minorgridcolor\": \"white\", \"startlinecolor\": \"#2a3f5f\"}, \"type\": \"carpet\"}], \"choropleth\": [{\"colorbar\": {\"outlinewidth\": 0, \"ticks\": \"\"}, \"type\": \"choropleth\"}], \"contour\": [{\"colorbar\": {\"outlinewidth\": 0, \"ticks\": \"\"}, \"colorscale\": [[0.0, \"#0d0887\"], [0.1111111111111111, \"#46039f\"], [0.2222222222222222, \"#7201a8\"], [0.3333333333333333, \"#9c179e\"], [0.4444444444444444, \"#bd3786\"], [0.5555555555555556, \"#d8576b\"], [0.6666666666666666, \"#ed7953\"], [0.7777777777777778, \"#fb9f3a\"], [0.8888888888888888, \"#fdca26\"], [1.0, \"#f0f921\"]], \"type\": \"contour\"}], \"contourcarpet\": [{\"colorbar\": {\"outlinewidth\": 0, \"ticks\": \"\"}, \"type\": \"contourcarpet\"}], \"heatmap\": [{\"colorbar\": {\"outlinewidth\": 0, \"ticks\": \"\"}, \"colorscale\": [[0.0, \"#0d0887\"], [0.1111111111111111, \"#46039f\"], [0.2222222222222222, \"#7201a8\"], [0.3333333333333333, \"#9c179e\"], [0.4444444444444444, \"#bd3786\"], [0.5555555555555556, \"#d8576b\"], [0.6666666666666666, \"#ed7953\"], [0.7777777777777778, \"#fb9f3a\"], [0.8888888888888888, \"#fdca26\"], [1.0, \"#f0f921\"]], \"type\": \"heatmap\"}], \"heatmapgl\": [{\"colorbar\": {\"outlinewidth\": 0, \"ticks\": \"\"}, \"colorscale\": [[0.0, \"#0d0887\"], [0.1111111111111111, \"#46039f\"], [0.2222222222222222, \"#7201a8\"], [0.3333333333333333, \"#9c179e\"], [0.4444444444444444, \"#bd3786\"], [0.5555555555555556, \"#d8576b\"], [0.6666666666666666, \"#ed7953\"], [0.7777777777777778, \"#fb9f3a\"], [0.8888888888888888, \"#fdca26\"], [1.0, \"#f0f921\"]], \"type\": \"heatmapgl\"}], \"histogram\": [{\"marker\": {\"colorbar\": {\"outlinewidth\": 0, \"ticks\": \"\"}}, \"type\": \"histogram\"}], \"histogram2d\": [{\"colorbar\": {\"outlinewidth\": 0, \"ticks\": \"\"}, \"colorscale\": [[0.0, \"#0d0887\"], [0.1111111111111111, \"#46039f\"], [0.2222222222222222, \"#7201a8\"], [0.3333333333333333, \"#9c179e\"], [0.4444444444444444, \"#bd3786\"], [0.5555555555555556, \"#d8576b\"], [0.6666666666666666, \"#ed7953\"], [0.7777777777777778, \"#fb9f3a\"], [0.8888888888888888, \"#fdca26\"], [1.0, \"#f0f921\"]], \"type\": \"histogram2d\"}], \"histogram2dcontour\": [{\"colorbar\": {\"outlinewidth\": 0, \"ticks\": \"\"}, \"colorscale\": [[0.0, \"#0d0887\"], [0.1111111111111111, \"#46039f\"], [0.2222222222222222, \"#7201a8\"], [0.3333333333333333, \"#9c179e\"], [0.4444444444444444, \"#bd3786\"], [0.5555555555555556, \"#d8576b\"], [0.6666666666666666, \"#ed7953\"], [0.7777777777777778, \"#fb9f3a\"], [0.8888888888888888, \"#fdca26\"], [1.0, \"#f0f921\"]], \"type\": \"histogram2dcontour\"}], \"mesh3d\": [{\"colorbar\": {\"outlinewidth\": 0, \"ticks\": \"\"}, \"type\": \"mesh3d\"}], \"parcoords\": [{\"line\": {\"colorbar\": {\"outlinewidth\": 0, \"ticks\": \"\"}}, \"type\": \"parcoords\"}], \"pie\": [{\"automargin\": true, \"type\": \"pie\"}], \"scatter\": [{\"marker\": {\"colorbar\": {\"outlinewidth\": 0, \"ticks\": \"\"}}, \"type\": \"scatter\"}], \"scatter3d\": [{\"line\": {\"colorbar\": {\"outlinewidth\": 0, \"ticks\": \"\"}}, \"marker\": {\"colorbar\": {\"outlinewidth\": 0, \"ticks\": \"\"}}, \"type\": \"scatter3d\"}], \"scattercarpet\": [{\"marker\": {\"colorbar\": {\"outlinewidth\": 0, \"ticks\": \"\"}}, \"type\": \"scattercarpet\"}], \"scattergeo\": [{\"marker\": {\"colorbar\": {\"outlinewidth\": 0, \"ticks\": \"\"}}, \"type\": \"scattergeo\"}], \"scattergl\": [{\"marker\": {\"colorbar\": {\"outlinewidth\": 0, \"ticks\": \"\"}}, \"type\": \"scattergl\"}], \"scattermapbox\": [{\"marker\": {\"colorbar\": {\"outlinewidth\": 0, \"ticks\": \"\"}}, \"type\": \"scattermapbox\"}], \"scatterpolar\": [{\"marker\": {\"colorbar\": {\"outlinewidth\": 0, \"ticks\": \"\"}}, \"type\": \"scatterpolar\"}], \"scatterpolargl\": [{\"marker\": {\"colorbar\": {\"outlinewidth\": 0, \"ticks\": \"\"}}, \"type\": \"scatterpolargl\"}], \"scatterternary\": [{\"marker\": {\"colorbar\": {\"outlinewidth\": 0, \"ticks\": \"\"}}, \"type\": \"scatterternary\"}], \"surface\": [{\"colorbar\": {\"outlinewidth\": 0, \"ticks\": \"\"}, \"colorscale\": [[0.0, \"#0d0887\"], [0.1111111111111111, \"#46039f\"], [0.2222222222222222, \"#7201a8\"], [0.3333333333333333, \"#9c179e\"], [0.4444444444444444, \"#bd3786\"], [0.5555555555555556, \"#d8576b\"], [0.6666666666666666, \"#ed7953\"], [0.7777777777777778, \"#fb9f3a\"], [0.8888888888888888, \"#fdca26\"], [1.0, \"#f0f921\"]], \"type\": \"surface\"}], \"table\": [{\"cells\": {\"fill\": {\"color\": \"#EBF0F8\"}, \"line\": {\"color\": \"white\"}}, \"header\": {\"fill\": {\"color\": \"#C8D4E3\"}, \"line\": {\"color\": \"white\"}}, \"type\": \"table\"}]}, \"layout\": {\"annotationdefaults\": {\"arrowcolor\": \"#2a3f5f\", \"arrowhead\": 0, \"arrowwidth\": 1}, \"coloraxis\": {\"colorbar\": {\"outlinewidth\": 0, \"ticks\": \"\"}}, \"colorscale\": {\"diverging\": [[0, \"#8e0152\"], [0.1, \"#c51b7d\"], [0.2, \"#de77ae\"], [0.3, \"#f1b6da\"], [0.4, \"#fde0ef\"], [0.5, \"#f7f7f7\"], [0.6, \"#e6f5d0\"], [0.7, \"#b8e186\"], [0.8, \"#7fbc41\"], [0.9, \"#4d9221\"], [1, \"#276419\"]], \"sequential\": [[0.0, \"#0d0887\"], [0.1111111111111111, \"#46039f\"], [0.2222222222222222, \"#7201a8\"], [0.3333333333333333, \"#9c179e\"], [0.4444444444444444, \"#bd3786\"], [0.5555555555555556, \"#d8576b\"], [0.6666666666666666, \"#ed7953\"], [0.7777777777777778, \"#fb9f3a\"], [0.8888888888888888, \"#fdca26\"], [1.0, \"#f0f921\"]], \"sequentialminus\": [[0.0, \"#0d0887\"], [0.1111111111111111, \"#46039f\"], [0.2222222222222222, \"#7201a8\"], [0.3333333333333333, \"#9c179e\"], [0.4444444444444444, \"#bd3786\"], [0.5555555555555556, \"#d8576b\"], [0.6666666666666666, \"#ed7953\"], [0.7777777777777778, \"#fb9f3a\"], [0.8888888888888888, \"#fdca26\"], [1.0, \"#f0f921\"]]}, \"colorway\": [\"#636efa\", \"#EF553B\", \"#00cc96\", \"#ab63fa\", \"#FFA15A\", \"#19d3f3\", \"#FF6692\", \"#B6E880\", \"#FF97FF\", \"#FECB52\"], \"font\": {\"color\": \"#2a3f5f\"}, \"geo\": {\"bgcolor\": \"white\", \"lakecolor\": \"white\", \"landcolor\": \"#E5ECF6\", \"showlakes\": true, \"showland\": true, \"subunitcolor\": \"white\"}, \"hoverlabel\": {\"align\": \"left\"}, \"hovermode\": \"closest\", \"mapbox\": {\"style\": \"light\"}, \"paper_bgcolor\": \"white\", \"plot_bgcolor\": \"#E5ECF6\", \"polar\": {\"angularaxis\": {\"gridcolor\": \"white\", \"linecolor\": \"white\", \"ticks\": \"\"}, \"bgcolor\": \"#E5ECF6\", \"radialaxis\": {\"gridcolor\": \"white\", \"linecolor\": \"white\", \"ticks\": \"\"}}, \"scene\": {\"xaxis\": {\"backgroundcolor\": \"#E5ECF6\", \"gridcolor\": \"white\", \"gridwidth\": 2, \"linecolor\": \"white\", \"showbackground\": true, \"ticks\": \"\", \"zerolinecolor\": \"white\"}, \"yaxis\": {\"backgroundcolor\": \"#E5ECF6\", \"gridcolor\": \"white\", \"gridwidth\": 2, \"linecolor\": \"white\", \"showbackground\": true, \"ticks\": \"\", \"zerolinecolor\": \"white\"}, \"zaxis\": {\"backgroundcolor\": \"#E5ECF6\", \"gridcolor\": \"white\", \"gridwidth\": 2, \"linecolor\": \"white\", \"showbackground\": true, \"ticks\": \"\", \"zerolinecolor\": \"white\"}}, \"shapedefaults\": {\"line\": {\"color\": \"#2a3f5f\"}}, \"ternary\": {\"aaxis\": {\"gridcolor\": \"white\", \"linecolor\": \"white\", \"ticks\": \"\"}, \"baxis\": {\"gridcolor\": \"white\", \"linecolor\": \"white\", \"ticks\": \"\"}, \"bgcolor\": \"#E5ECF6\", \"caxis\": {\"gridcolor\": \"white\", \"linecolor\": \"white\", \"ticks\": \"\"}}, \"title\": {\"x\": 0.05}, \"xaxis\": {\"automargin\": true, \"gridcolor\": \"white\", \"linecolor\": \"white\", \"ticks\": \"\", \"title\": {\"standoff\": 15}, \"zerolinecolor\": \"white\", \"zerolinewidth\": 2}, \"yaxis\": {\"automargin\": true, \"gridcolor\": \"white\", \"linecolor\": \"white\", \"ticks\": \"\", \"title\": {\"standoff\": 15}, \"zerolinecolor\": \"white\", \"zerolinewidth\": 2}}}, \"xaxis\": {\"anchor\": \"y\", \"domain\": [0.0, 1.0], \"title\": {\"text\": \"x\"}}, \"yaxis\": {\"anchor\": \"x\", \"domain\": [0.0, 1.0], \"title\": {\"text\": \"y\"}}},\n",
              "                        {\"responsive\": true}\n",
              "                    ).then(function(){\n",
              "                            \n",
              "var gd = document.getElementById('12939796-25bb-45f9-83ce-757aeaf2447c');\n",
              "var x = new MutationObserver(function (mutations, observer) {{\n",
              "        var display = window.getComputedStyle(gd).display;\n",
              "        if (!display || display === 'none') {{\n",
              "            console.log([gd, 'removed!']);\n",
              "            Plotly.purge(gd);\n",
              "            observer.disconnect();\n",
              "        }}\n",
              "}});\n",
              "\n",
              "// Listen for the removal of the full notebook cells\n",
              "var notebookContainer = gd.closest('#notebook-container');\n",
              "if (notebookContainer) {{\n",
              "    x.observe(notebookContainer, {childList: true});\n",
              "}}\n",
              "\n",
              "// Listen for the clearing of the current output cell\n",
              "var outputEl = gd.closest('.output');\n",
              "if (outputEl) {{\n",
              "    x.observe(outputEl, {childList: true});\n",
              "}}\n",
              "\n",
              "                        })\n",
              "                };\n",
              "                \n",
              "            </script>\n",
              "        </div>\n",
              "</body>\n",
              "</html>"
            ]
          },
          "metadata": {
            "tags": []
          }
        }
      ]
    },
    {
      "cell_type": "code",
      "metadata": {
        "id": "KIu9syCqD6Wu",
        "colab_type": "code",
        "colab": {
          "base_uri": "https://localhost:8080/",
          "height": 282
        },
        "outputId": "ec980f4d-1367-4a6f-a8db-d5d6278460f6"
      },
      "source": [
        "import matplotlib.pyplot as plt\n",
        "plt.scatter(longitud,latitud)\n"
      ],
      "execution_count": 44,
      "outputs": [
        {
          "output_type": "execute_result",
          "data": {
            "text/plain": [
              "<matplotlib.collections.PathCollection at 0x7ffbc623fa90>"
            ]
          },
          "metadata": {
            "tags": []
          },
          "execution_count": 44
        },
        {
          "output_type": "display_data",
          "data": {
            "image/png": "[encoded data removed]",
            "text/plain": [
              "<Figure size 432x288 with 1 Axes>"
            ]
          },
          "metadata": {
            "tags": [],
            "needs_background": "light"
          }
        }
      ]
    },
    {
      "cell_type": "code",
      "metadata": {
        "id": "NcVI0DkdC9sZ",
        "colab_type": "code",
        "colab": {
          "base_uri": "https://localhost:8080/",
          "height": 34
        },
        "outputId": "df23486a-555f-4f2f-b4af-063020663919"
      },
      "source": [
        "a1 = xy[3]\n",
        "a2 = xy[4]\n",
        "d = distance.euclidean(a1, a2)\n",
        "print(\"Euclidean distance: \",a1,a2,d)"
      ],
      "execution_count": 45,
      "outputs": [
        {
          "output_type": "stream",
          "text": [
            "Euclidean distance:  [21.1733678  24.27418792] [25.15841411 25.32547259] 4.121382476152484\n"
          ],
          "name": "stdout"
        }
      ]
    },
    {
      "cell_type": "code",
      "metadata": {
        "id": "4qPBxi9kRxyp",
        "colab_type": "code",
        "colab": {
          "base_uri": "https://localhost:8080/",
          "height": 481
        },
        "outputId": "d7354d28-74f5-4c4e-db12-d5791b6006b9"
      },
      "source": [
        "import matplotlib.pyplot as plt\n",
        "\n",
        "plt.figure(figsize=(8, 6))\n",
        "nx.draw(G, pos=pos,  node_size=100, node_color='black')\n",
        "plt.title('Graph Representation the set of coordinates', size=15)\n",
        "plt.show()"
      ],
      "execution_count": 48,
      "outputs": [
        {
          "output_type": "display_data",
          "data": {
            "image/png": "[encoded data removed]",
            "text/plain": [
              "<Figure size 576x432 with 1 Axes>"
            ]
          },
          "metadata": {
            "tags": []
          }
        }
      ]
    }
  ]
}