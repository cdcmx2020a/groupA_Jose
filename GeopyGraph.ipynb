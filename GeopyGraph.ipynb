{
  "nbformat": 4,
  "nbformat_minor": 0,
  "metadata": {
    "colab": {
      "name": "GeopyGraph.ipynb",
      "provenance": [],
      "collapsed_sections": [],
      "include_colab_link": true
    },
    "kernelspec": {
      "name": "python3",
      "display_name": "Python 3"
    }
  },
  "cells": [
    {
      "cell_type": "markdown",
      "metadata": {
        "id": "view-in-github",
        "colab_type": "text"
      },
      "source": [
        "<a href=\"https://colab.research.google.com/github/cdcmx2020a/groupA_Jose/blob/master/GeopyGraph.ipynb\" target=\"_parent\"><img src=\"https://colab.research.google.com/assets/colab-badge.svg\" alt=\"Open In Colab\"/></a>"
      ]
    },
    {
      "cell_type": "markdown",
      "metadata": {
        "id": "krU0pjHGqUyY",
        "colab_type": "text"
      },
      "source": [
        "# Ejemplo de uso de Geopy\n",
        "![texto alternativo](https://geopy.readthedocs.io/en/stable/_images/logo-wide.png)\n",
        "\n",
        "#Geopy no viene dentro de los paquetes de Colab, por lo que hay que instalarlo con el commando `pip`:"
      ]
    },
    {
      "cell_type": "code",
      "metadata": {
        "id": "aQQVYC41eaAV",
        "colab_type": "code",
        "colab": {
          "base_uri": "https://localhost:8080/",
          "height": 51
        },
        "outputId": "32abba7b-6a23-44af-97a5-af2c7981881f"
      },
      "source": [
        "!pip install geopy"
      ],
      "execution_count": 158,
      "outputs": [
        {
          "output_type": "stream",
          "text": [
            "Requirement already satisfied: geopy in /usr/local/lib/python3.6/dist-packages (1.17.0)\n",
            "Requirement already satisfied: geographiclib<2,>=1.49 in /usr/local/lib/python3.6/dist-packages (from geopy) (1.50)\n"
          ],
          "name": "stdout"
        }
      ]
    },
    {
      "cell_type": "markdown",
      "metadata": {
        "id": "qK9q2CMDq0qQ",
        "colab_type": "text"
      },
      "source": [
        "# De `Geopy` queremos el geocodificador `Nominatim`.\n",
        "\n",
        "## También usaremos `numpy` y `pandas`,"
      ]
    },
    {
      "cell_type": "code",
      "metadata": {
        "id": "tKqOZPFwemf4",
        "colab_type": "code",
        "colab": {}
      },
      "source": [
        "from geopy.geocoders import Nominatim\n",
        "import numpy as np\n",
        "import pandas as pd"
      ],
      "execution_count": 159,
      "outputs": []
    },
    {
      "cell_type": "markdown",
      "metadata": {
        "id": "zc1EiaROrK1u",
        "colab_type": "text"
      },
      "source": [
        "Llamaremos geolocator al codificador:"
      ]
    },
    {
      "cell_type": "code",
      "metadata": {
        "id": "2A6rlhSNep0X",
        "colab_type": "code",
        "colab": {
          "base_uri": "https://localhost:8080/",
          "height": 105
        },
        "outputId": "8a58ed24-c914-4fb0-b76c-075476fa86cf"
      },
      "source": [
        "geolocator = Nominatim()"
      ],
      "execution_count": 160,
      "outputs": [
        {
          "output_type": "stream",
          "text": [
            "/usr/local/lib/python3.6/dist-packages/geopy/geocoders/osm.py:143: UserWarning:\n",
            "\n",
            "Using Nominatim with the default \"geopy/1.17.0\" `user_agent` is strongly discouraged, as it violates Nominatim's ToS https://operations.osmfoundation.org/policies/nominatim/ and may possibly cause 403 and 429 HTTP errors. Please specify a custom `user_agent` with `Nominatim(user_agent=\"my-application\")` or by overriding the default `user_agent`: `geopy.geocoders.options.default_user_agent = \"my-application\"`. In geopy 2.0 this will become an exception.\n",
            "\n"
          ],
          "name": "stderr"
        }
      ]
    },
    {
      "cell_type": "markdown",
      "metadata": {
        "id": "3phPLjWvrWLb",
        "colab_type": "text"
      },
      "source": [
        "## Hacemos una prueba con algún municipio para ver si nos da las coordenadas:"
      ]
    },
    {
      "cell_type": "code",
      "metadata": {
        "id": "e6qvbruPflzR",
        "colab_type": "code",
        "colab": {
          "base_uri": "https://localhost:8080/",
          "height": 51
        },
        "outputId": "3a66cae4-338b-4bfa-9ec5-67b04768f114"
      },
      "source": [
        "loc=geolocator.geocode('hermosillo,Sonora,Mexico')\n",
        "print(loc.latitude)\n",
        "print(loc.longitude)"
      ],
      "execution_count": 161,
      "outputs": [
        {
          "output_type": "stream",
          "text": [
            "29.0948207\n",
            "-110.9692202\n"
          ],
          "name": "stdout"
        }
      ]
    },
    {
      "cell_type": "markdown",
      "metadata": {
        "id": "kOUPBvSLrik5",
        "colab_type": "text"
      },
      "source": [
        "Ahora, descargamos un archivo csv relacionado a los municipios, para obtener información de ahí\n",
        "![texto alternativo](https://github.com/napoles-uach/figuras/blob/master/data.png?raw=true)"
      ]
    },
    {
      "cell_type": "code",
      "metadata": {
        "id": "nZKJqJ3eiTh6",
        "colab_type": "code",
        "colab": {
          "base_uri": "https://localhost:8080/",
          "height": 204
        },
        "outputId": "cc35615b-0ef7-44ac-e8ac-9b406bd6a7be"
      },
      "source": [
        "!wget https://www.coneval.org.mx/Informes/Pobreza/Datos_abiertos/pobreza_municipal/indicadores%20de%20pobreza%20municipal,%202015.csv"
      ],
      "execution_count": 162,
      "outputs": [
        {
          "output_type": "stream",
          "text": [
            "--2020-08-09 22:27:30--  https://www.coneval.org.mx/Informes/Pobreza/Datos_abiertos/pobreza_municipal/indicadores%20de%20pobreza%20municipal,%202015.csv\n",
            "Resolving www.coneval.org.mx (www.coneval.org.mx)... 189.240.113.115\n",
            "Connecting to www.coneval.org.mx (www.coneval.org.mx)|189.240.113.115|:443... connected.\n",
            "HTTP request sent, awaiting response... 200 OK\n",
            "Length: 563018 (550K) [application/octet-stream]\n",
            "Saving to: ‘indicadores de pobreza municipal, 2015.csv.5’\n",
            "\n",
            "indicadores de pobr 100%[===================>] 549.82K   406KB/s    in 1.4s    \n",
            "\n",
            "2020-08-09 22:27:32 (406 KB/s) - ‘indicadores de pobreza municipal, 2015.csv.5’ saved [563018/563018]\n",
            "\n"
          ],
          "name": "stdout"
        }
      ]
    },
    {
      "cell_type": "code",
      "metadata": {
        "id": "bb9jbj87iT39",
        "colab_type": "code",
        "colab": {
          "base_uri": "https://localhost:8080/",
          "height": 456
        },
        "outputId": "c76e30ec-e5fc-4679-a700-bf41420664b7"
      },
      "source": [
        "municipios=pd.read_csv(\"indicadores de pobreza municipal, 2015.csv\",encoding='latin-1')\n",
        "municipios"
      ],
      "execution_count": 163,
      "outputs": [
        {
          "output_type": "execute_result",
          "data": {
            "text/html": [
              "<div>\n",
              "<style scoped>\n",
              "    .dataframe tbody tr th:only-of-type {\n",
              "        vertical-align: middle;\n",
              "    }\n",
              "\n",
              "    .dataframe tbody tr th {\n",
              "        vertical-align: top;\n",
              "    }\n",
              "\n",
              "    .dataframe thead th {\n",
              "        text-align: right;\n",
              "    }\n",
              "</style>\n",
              "<table border=\"1\" class=\"dataframe\">\n",
              "  <thead>\n",
              "    <tr style=\"text-align: right;\">\n",
              "      <th></th>\n",
              "      <th>clave_entidad</th>\n",
              "      <th>entidad_federativa</th>\n",
              "      <th>clave_municipio</th>\n",
              "      <th>municipio</th>\n",
              "      <th>poblacion</th>\n",
              "      <th>pobreza</th>\n",
              "      <th>pobreza_pob</th>\n",
              "      <th>pobreza_e</th>\n",
              "      <th>pobreza_e_pob</th>\n",
              "      <th>pobreza_m</th>\n",
              "      <th>pobreza_m_pob</th>\n",
              "      <th>vul_car</th>\n",
              "      <th>vul_car_pob</th>\n",
              "      <th>vul_ing</th>\n",
              "      <th>vul_ing_pob</th>\n",
              "      <th>npnv</th>\n",
              "      <th>npnv_pob</th>\n",
              "      <th>ic_rezedu</th>\n",
              "      <th>ic_rezedu_pob</th>\n",
              "      <th>ic_asalud</th>\n",
              "      <th>ic_asalud_pob</th>\n",
              "      <th>ic_segsoc</th>\n",
              "      <th>ic_segsoc_pob</th>\n",
              "      <th>ic_cv</th>\n",
              "      <th>ic_cv_pob</th>\n",
              "      <th>ic_sbv</th>\n",
              "      <th>ic_sbv_pob</th>\n",
              "      <th>ic_ali</th>\n",
              "      <th>ic_ali_pob</th>\n",
              "      <th>carencias</th>\n",
              "      <th>carencias_pob</th>\n",
              "      <th>carencias3</th>\n",
              "      <th>carencias3_pob</th>\n",
              "      <th>plb</th>\n",
              "      <th>plb_pob</th>\n",
              "      <th>plbm</th>\n",
              "      <th>plbm_pob</th>\n",
              "    </tr>\n",
              "  </thead>\n",
              "  <tbody>\n",
              "    <tr>\n",
              "      <th>0</th>\n",
              "      <td>1</td>\n",
              "      <td>Aguascalientes</td>\n",
              "      <td>1001</td>\n",
              "      <td>Aguascalientes</td>\n",
              "      <td>861,446</td>\n",
              "      <td>26.1</td>\n",
              "      <td>224,949</td>\n",
              "      <td>1.6</td>\n",
              "      <td>13,650</td>\n",
              "      <td>24.5</td>\n",
              "      <td>211,299</td>\n",
              "      <td>26.4</td>\n",
              "      <td>227,805</td>\n",
              "      <td>11.5</td>\n",
              "      <td>98,641</td>\n",
              "      <td>36</td>\n",
              "      <td>310,052</td>\n",
              "      <td>11.7</td>\n",
              "      <td>100,530</td>\n",
              "      <td>15.1</td>\n",
              "      <td>129,728</td>\n",
              "      <td>36.4</td>\n",
              "      <td>313,557</td>\n",
              "      <td>3.7</td>\n",
              "      <td>32,153</td>\n",
              "      <td>3</td>\n",
              "      <td>25,494</td>\n",
              "      <td>18</td>\n",
              "      <td>154,658</td>\n",
              "      <td>52.6</td>\n",
              "      <td>452,753</td>\n",
              "      <td>7.3</td>\n",
              "      <td>63,220</td>\n",
              "      <td>37.6</td>\n",
              "      <td>323,590</td>\n",
              "      <td>10</td>\n",
              "      <td>86,166</td>\n",
              "    </tr>\n",
              "    <tr>\n",
              "      <th>1</th>\n",
              "      <td>1</td>\n",
              "      <td>Aguascalientes</td>\n",
              "      <td>1002</td>\n",
              "      <td>Asientos</td>\n",
              "      <td>46,624</td>\n",
              "      <td>54</td>\n",
              "      <td>25,169</td>\n",
              "      <td>4.4</td>\n",
              "      <td>2,067</td>\n",
              "      <td>49.5</td>\n",
              "      <td>23,101</td>\n",
              "      <td>29</td>\n",
              "      <td>13,544</td>\n",
              "      <td>7.7</td>\n",
              "      <td>3,577</td>\n",
              "      <td>9.3</td>\n",
              "      <td>4,335</td>\n",
              "      <td>19.8</td>\n",
              "      <td>9,244</td>\n",
              "      <td>6</td>\n",
              "      <td>2,788</td>\n",
              "      <td>69</td>\n",
              "      <td>32,175</td>\n",
              "      <td>7.8</td>\n",
              "      <td>3,633</td>\n",
              "      <td>16.2</td>\n",
              "      <td>7,553</td>\n",
              "      <td>24.7</td>\n",
              "      <td>11,494</td>\n",
              "      <td>83</td>\n",
              "      <td>38,713</td>\n",
              "      <td>14.1</td>\n",
              "      <td>6,594</td>\n",
              "      <td>61.7</td>\n",
              "      <td>28,745</td>\n",
              "      <td>24.4</td>\n",
              "      <td>11,394</td>\n",
              "    </tr>\n",
              "    <tr>\n",
              "      <th>2</th>\n",
              "      <td>1</td>\n",
              "      <td>Aguascalientes</td>\n",
              "      <td>1003</td>\n",
              "      <td>Calvillo</td>\n",
              "      <td>52,773</td>\n",
              "      <td>56.8</td>\n",
              "      <td>29,951</td>\n",
              "      <td>3.1</td>\n",
              "      <td>1,650</td>\n",
              "      <td>53.6</td>\n",
              "      <td>28,301</td>\n",
              "      <td>27.6</td>\n",
              "      <td>14,561</td>\n",
              "      <td>6.3</td>\n",
              "      <td>3,348</td>\n",
              "      <td>9.3</td>\n",
              "      <td>4,913</td>\n",
              "      <td>23.2</td>\n",
              "      <td>12,254</td>\n",
              "      <td>9.9</td>\n",
              "      <td>5,212</td>\n",
              "      <td>73.6</td>\n",
              "      <td>38,857</td>\n",
              "      <td>5.2</td>\n",
              "      <td>2,746</td>\n",
              "      <td>7.7</td>\n",
              "      <td>4,082</td>\n",
              "      <td>17.3</td>\n",
              "      <td>9,148</td>\n",
              "      <td>84.3</td>\n",
              "      <td>44,513</td>\n",
              "      <td>10.5</td>\n",
              "      <td>5,528</td>\n",
              "      <td>63.1</td>\n",
              "      <td>33,299</td>\n",
              "      <td>26.8</td>\n",
              "      <td>14,118</td>\n",
              "    </tr>\n",
              "    <tr>\n",
              "      <th>3</th>\n",
              "      <td>1</td>\n",
              "      <td>Aguascalientes</td>\n",
              "      <td>1004</td>\n",
              "      <td>Cosío</td>\n",
              "      <td>15,321</td>\n",
              "      <td>43.2</td>\n",
              "      <td>6,620</td>\n",
              "      <td>2.8</td>\n",
              "      <td>432</td>\n",
              "      <td>40.4</td>\n",
              "      <td>6,187</td>\n",
              "      <td>32.7</td>\n",
              "      <td>5,004</td>\n",
              "      <td>8</td>\n",
              "      <td>1,232</td>\n",
              "      <td>16.1</td>\n",
              "      <td>2,466</td>\n",
              "      <td>14.7</td>\n",
              "      <td>2,251</td>\n",
              "      <td>5.5</td>\n",
              "      <td>846</td>\n",
              "      <td>62.7</td>\n",
              "      <td>9,608</td>\n",
              "      <td>7.9</td>\n",
              "      <td>1,215</td>\n",
              "      <td>7.6</td>\n",
              "      <td>1,167</td>\n",
              "      <td>20.7</td>\n",
              "      <td>3,175</td>\n",
              "      <td>75.9</td>\n",
              "      <td>11,623</td>\n",
              "      <td>9.9</td>\n",
              "      <td>1,522</td>\n",
              "      <td>51.2</td>\n",
              "      <td>7,852</td>\n",
              "      <td>16.6</td>\n",
              "      <td>2,546</td>\n",
              "    </tr>\n",
              "    <tr>\n",
              "      <th>4</th>\n",
              "      <td>1</td>\n",
              "      <td>Aguascalientes</td>\n",
              "      <td>1005</td>\n",
              "      <td>Jesús María</td>\n",
              "      <td>125,750</td>\n",
              "      <td>25</td>\n",
              "      <td>31,479</td>\n",
              "      <td>1.7</td>\n",
              "      <td>2,095</td>\n",
              "      <td>23.4</td>\n",
              "      <td>29,385</td>\n",
              "      <td>38</td>\n",
              "      <td>47,831</td>\n",
              "      <td>6.6</td>\n",
              "      <td>8,314</td>\n",
              "      <td>30.3</td>\n",
              "      <td>38,126</td>\n",
              "      <td>17.3</td>\n",
              "      <td>21,712</td>\n",
              "      <td>15.2</td>\n",
              "      <td>19,076</td>\n",
              "      <td>45</td>\n",
              "      <td>56,595</td>\n",
              "      <td>8.2</td>\n",
              "      <td>10,303</td>\n",
              "      <td>6.3</td>\n",
              "      <td>7,977</td>\n",
              "      <td>18.7</td>\n",
              "      <td>23,562</td>\n",
              "      <td>63.1</td>\n",
              "      <td>79,310</td>\n",
              "      <td>11.3</td>\n",
              "      <td>14,225</td>\n",
              "      <td>31.6</td>\n",
              "      <td>39,794</td>\n",
              "      <td>7.9</td>\n",
              "      <td>9,984</td>\n",
              "    </tr>\n",
              "    <tr>\n",
              "      <th>...</th>\n",
              "      <td>...</td>\n",
              "      <td>...</td>\n",
              "      <td>...</td>\n",
              "      <td>...</td>\n",
              "      <td>...</td>\n",
              "      <td>...</td>\n",
              "      <td>...</td>\n",
              "      <td>...</td>\n",
              "      <td>...</td>\n",
              "      <td>...</td>\n",
              "      <td>...</td>\n",
              "      <td>...</td>\n",
              "      <td>...</td>\n",
              "      <td>...</td>\n",
              "      <td>...</td>\n",
              "      <td>...</td>\n",
              "      <td>...</td>\n",
              "      <td>...</td>\n",
              "      <td>...</td>\n",
              "      <td>...</td>\n",
              "      <td>...</td>\n",
              "      <td>...</td>\n",
              "      <td>...</td>\n",
              "      <td>...</td>\n",
              "      <td>...</td>\n",
              "      <td>...</td>\n",
              "      <td>...</td>\n",
              "      <td>...</td>\n",
              "      <td>...</td>\n",
              "      <td>...</td>\n",
              "      <td>...</td>\n",
              "      <td>...</td>\n",
              "      <td>...</td>\n",
              "      <td>...</td>\n",
              "      <td>...</td>\n",
              "      <td>...</td>\n",
              "      <td>...</td>\n",
              "    </tr>\n",
              "    <tr>\n",
              "      <th>2452</th>\n",
              "      <td>32</td>\n",
              "      <td>Zacatecas</td>\n",
              "      <td>32054</td>\n",
              "      <td>Villa Hidalgo</td>\n",
              "      <td>18,155</td>\n",
              "      <td>71.8</td>\n",
              "      <td>13,040</td>\n",
              "      <td>9.2</td>\n",
              "      <td>1,674</td>\n",
              "      <td>62.6</td>\n",
              "      <td>11,366</td>\n",
              "      <td>17</td>\n",
              "      <td>3,082</td>\n",
              "      <td>4.9</td>\n",
              "      <td>894</td>\n",
              "      <td>6.3</td>\n",
              "      <td>1,139</td>\n",
              "      <td>20.8</td>\n",
              "      <td>3,778</td>\n",
              "      <td>7.7</td>\n",
              "      <td>1,396</td>\n",
              "      <td>78.8</td>\n",
              "      <td>14,298</td>\n",
              "      <td>5.7</td>\n",
              "      <td>1,028</td>\n",
              "      <td>20.2</td>\n",
              "      <td>3,674</td>\n",
              "      <td>24.4</td>\n",
              "      <td>4,435</td>\n",
              "      <td>88.8</td>\n",
              "      <td>16,123</td>\n",
              "      <td>16.7</td>\n",
              "      <td>3,034</td>\n",
              "      <td>76.8</td>\n",
              "      <td>13,934</td>\n",
              "      <td>38.5</td>\n",
              "      <td>6,983</td>\n",
              "    </tr>\n",
              "    <tr>\n",
              "      <th>2453</th>\n",
              "      <td>32</td>\n",
              "      <td>Zacatecas</td>\n",
              "      <td>32055</td>\n",
              "      <td>Villanueva</td>\n",
              "      <td>29,957</td>\n",
              "      <td>61</td>\n",
              "      <td>18,269</td>\n",
              "      <td>6.9</td>\n",
              "      <td>2,071</td>\n",
              "      <td>54.1</td>\n",
              "      <td>16,198</td>\n",
              "      <td>23.3</td>\n",
              "      <td>6,978</td>\n",
              "      <td>7.2</td>\n",
              "      <td>2,164</td>\n",
              "      <td>8.5</td>\n",
              "      <td>2,545</td>\n",
              "      <td>26.1</td>\n",
              "      <td>7,826</td>\n",
              "      <td>12.6</td>\n",
              "      <td>3,784</td>\n",
              "      <td>65.7</td>\n",
              "      <td>19,685</td>\n",
              "      <td>3</td>\n",
              "      <td>911</td>\n",
              "      <td>16</td>\n",
              "      <td>4,804</td>\n",
              "      <td>22.5</td>\n",
              "      <td>6,747</td>\n",
              "      <td>84.3</td>\n",
              "      <td>25,247</td>\n",
              "      <td>14.7</td>\n",
              "      <td>4,394</td>\n",
              "      <td>68.2</td>\n",
              "      <td>20,433</td>\n",
              "      <td>28.7</td>\n",
              "      <td>8,590</td>\n",
              "    </tr>\n",
              "    <tr>\n",
              "      <th>2454</th>\n",
              "      <td>32</td>\n",
              "      <td>Zacatecas</td>\n",
              "      <td>32056</td>\n",
              "      <td>Zacatecas</td>\n",
              "      <td>150,854</td>\n",
              "      <td>25.9</td>\n",
              "      <td>39,133</td>\n",
              "      <td>1.8</td>\n",
              "      <td>2,768</td>\n",
              "      <td>24.1</td>\n",
              "      <td>36,365</td>\n",
              "      <td>28.3</td>\n",
              "      <td>42,676</td>\n",
              "      <td>9</td>\n",
              "      <td>13,524</td>\n",
              "      <td>36.8</td>\n",
              "      <td>55,522</td>\n",
              "      <td>10.4</td>\n",
              "      <td>15,628</td>\n",
              "      <td>14.5</td>\n",
              "      <td>21,839</td>\n",
              "      <td>40.2</td>\n",
              "      <td>60,678</td>\n",
              "      <td>2.3</td>\n",
              "      <td>3,448</td>\n",
              "      <td>4.6</td>\n",
              "      <td>6,984</td>\n",
              "      <td>16.2</td>\n",
              "      <td>24,459</td>\n",
              "      <td>54.2</td>\n",
              "      <td>81,808</td>\n",
              "      <td>6.5</td>\n",
              "      <td>9,817</td>\n",
              "      <td>34.9</td>\n",
              "      <td>52,656</td>\n",
              "      <td>8.5</td>\n",
              "      <td>12,882</td>\n",
              "    </tr>\n",
              "    <tr>\n",
              "      <th>2455</th>\n",
              "      <td>32</td>\n",
              "      <td>Zacatecas</td>\n",
              "      <td>32057</td>\n",
              "      <td>Trancoso</td>\n",
              "      <td>18,716</td>\n",
              "      <td>63.1</td>\n",
              "      <td>11,815</td>\n",
              "      <td>7.7</td>\n",
              "      <td>1,439</td>\n",
              "      <td>55.4</td>\n",
              "      <td>10,376</td>\n",
              "      <td>20.6</td>\n",
              "      <td>3,862</td>\n",
              "      <td>7.6</td>\n",
              "      <td>1,420</td>\n",
              "      <td>8.7</td>\n",
              "      <td>1,619</td>\n",
              "      <td>19.5</td>\n",
              "      <td>3,649</td>\n",
              "      <td>8.4</td>\n",
              "      <td>1,572</td>\n",
              "      <td>72.4</td>\n",
              "      <td>13,557</td>\n",
              "      <td>6.3</td>\n",
              "      <td>1,184</td>\n",
              "      <td>13.7</td>\n",
              "      <td>2,556</td>\n",
              "      <td>28.9</td>\n",
              "      <td>5,406</td>\n",
              "      <td>83.8</td>\n",
              "      <td>15,677</td>\n",
              "      <td>16.3</td>\n",
              "      <td>3,057</td>\n",
              "      <td>70.7</td>\n",
              "      <td>13,235</td>\n",
              "      <td>30.1</td>\n",
              "      <td>5,642</td>\n",
              "    </tr>\n",
              "    <tr>\n",
              "      <th>2456</th>\n",
              "      <td>32</td>\n",
              "      <td>Zacatecas</td>\n",
              "      <td>32058</td>\n",
              "      <td>Santa María de la Paz</td>\n",
              "      <td>2,658</td>\n",
              "      <td>57.4</td>\n",
              "      <td>1,525</td>\n",
              "      <td>5.9</td>\n",
              "      <td>156</td>\n",
              "      <td>51.5</td>\n",
              "      <td>1,369</td>\n",
              "      <td>30.5</td>\n",
              "      <td>811</td>\n",
              "      <td>2.7</td>\n",
              "      <td>72</td>\n",
              "      <td>9.4</td>\n",
              "      <td>249</td>\n",
              "      <td>26.3</td>\n",
              "      <td>700</td>\n",
              "      <td>19.8</td>\n",
              "      <td>526</td>\n",
              "      <td>70.8</td>\n",
              "      <td>1,882</td>\n",
              "      <td>6.7</td>\n",
              "      <td>178</td>\n",
              "      <td>13.2</td>\n",
              "      <td>351</td>\n",
              "      <td>12.2</td>\n",
              "      <td>324</td>\n",
              "      <td>87.9</td>\n",
              "      <td>2,337</td>\n",
              "      <td>14.4</td>\n",
              "      <td>382</td>\n",
              "      <td>60.1</td>\n",
              "      <td>1,598</td>\n",
              "      <td>26.5</td>\n",
              "      <td>704</td>\n",
              "    </tr>\n",
              "  </tbody>\n",
              "</table>\n",
              "<p>2457 rows × 37 columns</p>\n",
              "</div>"
            ],
            "text/plain": [
              "      clave_entidad entidad_federativa  clave_municipio  ...  plb_pob  plbm plbm_pob\n",
              "0                 1     Aguascalientes             1001  ...  323,590    10   86,166\n",
              "1                 1     Aguascalientes             1002  ...   28,745  24.4   11,394\n",
              "2                 1     Aguascalientes             1003  ...   33,299  26.8   14,118\n",
              "3                 1     Aguascalientes             1004  ...    7,852  16.6    2,546\n",
              "4                 1     Aguascalientes             1005  ...   39,794   7.9    9,984\n",
              "...             ...                ...              ...  ...      ...   ...      ...\n",
              "2452             32          Zacatecas            32054  ...   13,934  38.5    6,983\n",
              "2453             32          Zacatecas            32055  ...   20,433  28.7    8,590\n",
              "2454             32          Zacatecas            32056  ...   52,656   8.5   12,882\n",
              "2455             32          Zacatecas            32057  ...   13,235  30.1    5,642\n",
              "2456             32          Zacatecas            32058  ...    1,598  26.5      704\n",
              "\n",
              "[2457 rows x 37 columns]"
            ]
          },
          "metadata": {
            "tags": []
          },
          "execution_count": 163
        }
      ]
    },
    {
      "cell_type": "markdown",
      "metadata": {
        "id": "mjCgb_gTs310",
        "colab_type": "text"
      },
      "source": [
        "# Vamos a construir un nuevo DataBase a partir de `municipios` para filtrar solo las columnas `municipio`, y `entidad_federativa` pero con la información solo de los renglones para los que `entidad_federativa == 1`"
      ]
    },
    {
      "cell_type": "code",
      "metadata": {
        "id": "gyaNHF1hiXJJ",
        "colab_type": "code",
        "colab": {}
      },
      "source": [
        "mun=municipios[['municipio','entidad_federativa']][municipios['clave_entidad']==1]"
      ],
      "execution_count": 164,
      "outputs": []
    },
    {
      "cell_type": "markdown",
      "metadata": {
        "id": "707ERLdKtfQ8",
        "colab_type": "text"
      },
      "source": [
        "## y agregamos una columna extra para poner las direcciones en formato 'municipio' + 'estado' + 'país'"
      ]
    },
    {
      "cell_type": "code",
      "metadata": {
        "id": "tqwpRYBsjAHB",
        "colab_type": "code",
        "colab": {}
      },
      "source": [
        "mun['Nombre']=mun['municipio']+', '+mun['entidad_federativa']+', Mexico'"
      ],
      "execution_count": 165,
      "outputs": []
    },
    {
      "cell_type": "markdown",
      "metadata": {
        "id": "XRaQxRQYtv2I",
        "colab_type": "text"
      },
      "source": [
        "# queda así:"
      ]
    },
    {
      "cell_type": "code",
      "metadata": {
        "id": "tO3lhT0bjAyr",
        "colab_type": "code",
        "colab": {
          "base_uri": "https://localhost:8080/",
          "height": 390
        },
        "outputId": "42851c85-0a2f-497a-a248-e3e2b75b591e"
      },
      "source": [
        "mun"
      ],
      "execution_count": 166,
      "outputs": [
        {
          "output_type": "execute_result",
          "data": {
            "text/html": [
              "<div>\n",
              "<style scoped>\n",
              "    .dataframe tbody tr th:only-of-type {\n",
              "        vertical-align: middle;\n",
              "    }\n",
              "\n",
              "    .dataframe tbody tr th {\n",
              "        vertical-align: top;\n",
              "    }\n",
              "\n",
              "    .dataframe thead th {\n",
              "        text-align: right;\n",
              "    }\n",
              "</style>\n",
              "<table border=\"1\" class=\"dataframe\">\n",
              "  <thead>\n",
              "    <tr style=\"text-align: right;\">\n",
              "      <th></th>\n",
              "      <th>municipio</th>\n",
              "      <th>entidad_federativa</th>\n",
              "      <th>Nombre</th>\n",
              "    </tr>\n",
              "  </thead>\n",
              "  <tbody>\n",
              "    <tr>\n",
              "      <th>0</th>\n",
              "      <td>Aguascalientes</td>\n",
              "      <td>Aguascalientes</td>\n",
              "      <td>Aguascalientes, Aguascalientes, Mexico</td>\n",
              "    </tr>\n",
              "    <tr>\n",
              "      <th>1</th>\n",
              "      <td>Asientos</td>\n",
              "      <td>Aguascalientes</td>\n",
              "      <td>Asientos, Aguascalientes, Mexico</td>\n",
              "    </tr>\n",
              "    <tr>\n",
              "      <th>2</th>\n",
              "      <td>Calvillo</td>\n",
              "      <td>Aguascalientes</td>\n",
              "      <td>Calvillo, Aguascalientes, Mexico</td>\n",
              "    </tr>\n",
              "    <tr>\n",
              "      <th>3</th>\n",
              "      <td>Cosío</td>\n",
              "      <td>Aguascalientes</td>\n",
              "      <td>Cosío, Aguascalientes, Mexico</td>\n",
              "    </tr>\n",
              "    <tr>\n",
              "      <th>4</th>\n",
              "      <td>Jesús María</td>\n",
              "      <td>Aguascalientes</td>\n",
              "      <td>Jesús María, Aguascalientes, Mexico</td>\n",
              "    </tr>\n",
              "    <tr>\n",
              "      <th>5</th>\n",
              "      <td>Pabellón de Arteaga</td>\n",
              "      <td>Aguascalientes</td>\n",
              "      <td>Pabellón de Arteaga, Aguascalientes, Mexico</td>\n",
              "    </tr>\n",
              "    <tr>\n",
              "      <th>6</th>\n",
              "      <td>Rincón de Romos</td>\n",
              "      <td>Aguascalientes</td>\n",
              "      <td>Rincón de Romos, Aguascalientes, Mexico</td>\n",
              "    </tr>\n",
              "    <tr>\n",
              "      <th>7</th>\n",
              "      <td>San José de Gracia</td>\n",
              "      <td>Aguascalientes</td>\n",
              "      <td>San José de Gracia, Aguascalientes, Mexico</td>\n",
              "    </tr>\n",
              "    <tr>\n",
              "      <th>8</th>\n",
              "      <td>Tepezalá</td>\n",
              "      <td>Aguascalientes</td>\n",
              "      <td>Tepezalá, Aguascalientes, Mexico</td>\n",
              "    </tr>\n",
              "    <tr>\n",
              "      <th>9</th>\n",
              "      <td>El Llano</td>\n",
              "      <td>Aguascalientes</td>\n",
              "      <td>El Llano, Aguascalientes, Mexico</td>\n",
              "    </tr>\n",
              "    <tr>\n",
              "      <th>10</th>\n",
              "      <td>San Francisco de los Romo</td>\n",
              "      <td>Aguascalientes</td>\n",
              "      <td>San Francisco de los Romo, Aguascalientes, Mexico</td>\n",
              "    </tr>\n",
              "  </tbody>\n",
              "</table>\n",
              "</div>"
            ],
            "text/plain": [
              "                    municipio  ...                                             Nombre\n",
              "0              Aguascalientes  ...             Aguascalientes, Aguascalientes, Mexico\n",
              "1                    Asientos  ...                   Asientos, Aguascalientes, Mexico\n",
              "2                    Calvillo  ...                   Calvillo, Aguascalientes, Mexico\n",
              "3                       Cosío  ...                      Cosío, Aguascalientes, Mexico\n",
              "4                 Jesús María  ...                Jesús María, Aguascalientes, Mexico\n",
              "5         Pabellón de Arteaga  ...        Pabellón de Arteaga, Aguascalientes, Mexico\n",
              "6             Rincón de Romos  ...            Rincón de Romos, Aguascalientes, Mexico\n",
              "7          San José de Gracia  ...         San José de Gracia, Aguascalientes, Mexico\n",
              "8                    Tepezalá  ...                   Tepezalá, Aguascalientes, Mexico\n",
              "9                    El Llano  ...                   El Llano, Aguascalientes, Mexico\n",
              "10  San Francisco de los Romo  ...  San Francisco de los Romo, Aguascalientes, Mexico\n",
              "\n",
              "[11 rows x 3 columns]"
            ]
          },
          "metadata": {
            "tags": []
          },
          "execution_count": 166
        }
      ]
    },
    {
      "cell_type": "markdown",
      "metadata": {
        "id": "Kfq1pAegt9F8",
        "colab_type": "text"
      },
      "source": [
        "#El siguiente código crea dos listas, `latlist` y `lonlist` para almacenar en ellas las latitudes y longitudes de cada localidad:"
      ]
    },
    {
      "cell_type": "code",
      "metadata": {
        "id": "qQjx5Wlek9sA",
        "colab_type": "code",
        "colab": {}
      },
      "source": [
        "latlist=[]\n",
        "lonlist=[]\n",
        "for place in mun['Nombre']:\n",
        "  loc=geolocator.geocode(place)\n",
        "  latlist.append(loc.latitude)\n",
        "  lonlist.append(loc.longitude)\n"
      ],
      "execution_count": 167,
      "outputs": []
    },
    {
      "cell_type": "code",
      "metadata": {
        "id": "QdItgikBzZj4",
        "colab_type": "code",
        "colab": {}
      },
      "source": [
        "latitud=np.array(latlist)\n",
        "longitud=np.array(lonlist)"
      ],
      "execution_count": 168,
      "outputs": []
    },
    {
      "cell_type": "markdown",
      "metadata": {
        "id": "lE1cT2xnqTqz",
        "colab_type": "text"
      },
      "source": [
        "# Por conveniencia y para graficarlo en un mapa, vamos a guardar en un DataFrame:"
      ]
    },
    {
      "cell_type": "code",
      "metadata": {
        "id": "s3eCuyjPl2rH",
        "colab_type": "code",
        "colab": {}
      },
      "source": [
        "df = pd.DataFrame(list(zip(latlist,lonlist)), \n",
        "               columns =['Lat', 'Lon'])"
      ],
      "execution_count": 169,
      "outputs": []
    },
    {
      "cell_type": "code",
      "metadata": {
        "id": "HT9jRM45m3G9",
        "colab_type": "code",
        "colab": {
          "base_uri": "https://localhost:8080/",
          "height": 390
        },
        "outputId": "8bc8a886-1e9a-47e5-be3c-d87db4bb01e8"
      },
      "source": [
        "df"
      ],
      "execution_count": 170,
      "outputs": [
        {
          "output_type": "execute_result",
          "data": {
            "text/html": [
              "<div>\n",
              "<style scoped>\n",
              "    .dataframe tbody tr th:only-of-type {\n",
              "        vertical-align: middle;\n",
              "    }\n",
              "\n",
              "    .dataframe tbody tr th {\n",
              "        vertical-align: top;\n",
              "    }\n",
              "\n",
              "    .dataframe thead th {\n",
              "        text-align: right;\n",
              "    }\n",
              "</style>\n",
              "<table border=\"1\" class=\"dataframe\">\n",
              "  <thead>\n",
              "    <tr style=\"text-align: right;\">\n",
              "      <th></th>\n",
              "      <th>Lat</th>\n",
              "      <th>Lon</th>\n",
              "    </tr>\n",
              "  </thead>\n",
              "  <tbody>\n",
              "    <tr>\n",
              "      <th>0</th>\n",
              "      <td>21.880655</td>\n",
              "      <td>-102.296132</td>\n",
              "    </tr>\n",
              "    <tr>\n",
              "      <th>1</th>\n",
              "      <td>22.132107</td>\n",
              "      <td>-102.095256</td>\n",
              "    </tr>\n",
              "    <tr>\n",
              "      <th>2</th>\n",
              "      <td>21.849624</td>\n",
              "      <td>-102.712543</td>\n",
              "    </tr>\n",
              "    <tr>\n",
              "      <th>3</th>\n",
              "      <td>22.370515</td>\n",
              "      <td>-102.312009</td>\n",
              "    </tr>\n",
              "    <tr>\n",
              "      <th>4</th>\n",
              "      <td>21.934556</td>\n",
              "      <td>-102.468452</td>\n",
              "    </tr>\n",
              "    <tr>\n",
              "      <th>5</th>\n",
              "      <td>22.104934</td>\n",
              "      <td>-102.301624</td>\n",
              "    </tr>\n",
              "    <tr>\n",
              "      <th>6</th>\n",
              "      <td>22.229364</td>\n",
              "      <td>-102.322985</td>\n",
              "    </tr>\n",
              "    <tr>\n",
              "      <th>7</th>\n",
              "      <td>22.142627</td>\n",
              "      <td>-102.530136</td>\n",
              "    </tr>\n",
              "    <tr>\n",
              "      <th>8</th>\n",
              "      <td>22.243516</td>\n",
              "      <td>-102.192721</td>\n",
              "    </tr>\n",
              "    <tr>\n",
              "      <th>9</th>\n",
              "      <td>21.928670</td>\n",
              "      <td>-102.000728</td>\n",
              "    </tr>\n",
              "    <tr>\n",
              "      <th>10</th>\n",
              "      <td>22.021865</td>\n",
              "      <td>-102.251784</td>\n",
              "    </tr>\n",
              "  </tbody>\n",
              "</table>\n",
              "</div>"
            ],
            "text/plain": [
              "          Lat         Lon\n",
              "0   21.880655 -102.296132\n",
              "1   22.132107 -102.095256\n",
              "2   21.849624 -102.712543\n",
              "3   22.370515 -102.312009\n",
              "4   21.934556 -102.468452\n",
              "5   22.104934 -102.301624\n",
              "6   22.229364 -102.322985\n",
              "7   22.142627 -102.530136\n",
              "8   22.243516 -102.192721\n",
              "9   21.928670 -102.000728\n",
              "10  22.021865 -102.251784"
            ]
          },
          "metadata": {
            "tags": []
          },
          "execution_count": 170
        }
      ]
    },
    {
      "cell_type": "markdown",
      "metadata": {
        "id": "hLX9m1AyuYri",
        "colab_type": "text"
      },
      "source": [
        "# Presentamos los puntos en un mapa :"
      ]
    },
    {
      "cell_type": "code",
      "metadata": {
        "id": "K6NFlJUPm3vj",
        "colab_type": "code",
        "colab": {
          "base_uri": "https://localhost:8080/",
          "height": 817
        },
        "outputId": "75a64d88-98ec-41aa-8211-9edca549c318"
      },
      "source": [
        "import plotly.express as px\n",
        "fig = px.scatter_mapbox(df, lat=df['Lat'], lon=df['Lon'],width=1400,height=800,zoom=5)\n",
        "fig.update_layout(mapbox_style=\"open-street-map\")#\"carto-darkmatter\")\n",
        "fig.update_layout(title = 'Cities of Mexico')\n",
        "fig.update_traces(opacity=0.5, marker=dict(  color='red', size=15))\n",
        "fig.show()"
      ],
      "execution_count": 171,
      "outputs": [
        {
          "output_type": "display_data",
          "data": {
            "text/html": [
              "<html>\n",
              "<head><meta charset=\"utf-8\" /></head>\n",
              "<body>\n",
              "    <div>\n",
              "            <script src=\"https://cdnjs.cloudflare.com/ajax/libs/mathjax/2.7.5/MathJax.js?config=TeX-AMS-MML_SVG\"></script><script type=\"text/javascript\">if (window.MathJax) {MathJax.Hub.Config({SVG: {font: \"STIX-Web\"}});}</script>\n",
              "                <script type=\"text/javascript\">window.PlotlyConfig = {MathJaxConfig: 'local'};</script>\n",
              "        <script src=\"https://cdn.plot.ly/plotly-latest.min.js\"></script>    \n",
              "            <div id=\"d95c25b4-7f31-4115-b108-fb2ab6904741\" class=\"plotly-graph-div\" style=\"height:800px; width:1400px;\"></div>\n",
              "            <script type=\"text/javascript\">\n",
              "                \n",
              "                    window.PLOTLYENV=window.PLOTLYENV || {};\n",
              "                    \n",
              "                if (document.getElementById(\"d95c25b4-7f31-4115-b108-fb2ab6904741\")) {\n",
              "                    Plotly.newPlot(\n",
              "                        'd95c25b4-7f31-4115-b108-fb2ab6904741',\n",
              "                        [{\"hoverlabel\": {\"namelength\": 0}, \"hovertemplate\": \"Lat=%{lat}<br>Lon=%{lon}\", \"lat\": [21.8806553, 22.1321072, 21.849624249999998, 22.3705155, 21.934555500000002, 22.1049335, 22.2293637, 22.1426267, 22.2435163, 21.928669550000002, 22.02186515], \"legendgroup\": \"\", \"lon\": [-102.2961323, -102.09525589618855, -102.71254273225466, -102.31200851052341, -102.46845171651151, -102.30162449267488, -102.3229846, -102.53013573250765, -102.19272117494603, -102.00072765450251, -102.25178378307089], \"marker\": {\"color\": \"red\", \"size\": 15}, \"mode\": \"markers\", \"name\": \"\", \"opacity\": 0.5, \"showlegend\": false, \"subplot\": \"mapbox\", \"type\": \"scattermapbox\"}],\n",
              "                        {\"height\": 800, \"legend\": {\"tracegroupgap\": 0}, \"mapbox\": {\"center\": {\"lat\": 22.07622115, \"lon\": -102.31676078119818}, \"domain\": {\"x\": [0.0, 1.0], \"y\": [0.0, 1.0]}, \"style\": \"open-street-map\", \"zoom\": 5}, \"margin\": {\"t\": 60}, \"template\": {\"data\": {\"bar\": [{\"error_x\": {\"color\": \"#2a3f5f\"}, \"error_y\": {\"color\": \"#2a3f5f\"}, \"marker\": {\"line\": {\"color\": \"#E5ECF6\", \"width\": 0.5}}, \"type\": \"bar\"}], \"barpolar\": [{\"marker\": {\"line\": {\"color\": \"#E5ECF6\", \"width\": 0.5}}, \"type\": \"barpolar\"}], \"carpet\": [{\"aaxis\": {\"endlinecolor\": \"#2a3f5f\", \"gridcolor\": \"white\", \"linecolor\": \"white\", \"minorgridcolor\": \"white\", \"startlinecolor\": \"#2a3f5f\"}, \"baxis\": {\"endlinecolor\": \"#2a3f5f\", \"gridcolor\": \"white\", \"linecolor\": \"white\", \"minorgridcolor\": \"white\", \"startlinecolor\": \"#2a3f5f\"}, \"type\": \"carpet\"}], \"choropleth\": [{\"colorbar\": {\"outlinewidth\": 0, \"ticks\": \"\"}, \"type\": \"choropleth\"}], \"contour\": [{\"colorbar\": {\"outlinewidth\": 0, \"ticks\": \"\"}, \"colorscale\": [[0.0, \"#0d0887\"], [0.1111111111111111, \"#46039f\"], [0.2222222222222222, \"#7201a8\"], [0.3333333333333333, \"#9c179e\"], [0.4444444444444444, \"#bd3786\"], [0.5555555555555556, \"#d8576b\"], [0.6666666666666666, \"#ed7953\"], [0.7777777777777778, \"#fb9f3a\"], [0.8888888888888888, \"#fdca26\"], [1.0, \"#f0f921\"]], \"type\": \"contour\"}], \"contourcarpet\": [{\"colorbar\": {\"outlinewidth\": 0, \"ticks\": \"\"}, \"type\": \"contourcarpet\"}], \"heatmap\": [{\"colorbar\": {\"outlinewidth\": 0, \"ticks\": \"\"}, \"colorscale\": [[0.0, \"#0d0887\"], [0.1111111111111111, \"#46039f\"], [0.2222222222222222, \"#7201a8\"], [0.3333333333333333, \"#9c179e\"], [0.4444444444444444, \"#bd3786\"], [0.5555555555555556, \"#d8576b\"], [0.6666666666666666, \"#ed7953\"], [0.7777777777777778, \"#fb9f3a\"], [0.8888888888888888, \"#fdca26\"], [1.0, \"#f0f921\"]], \"type\": \"heatmap\"}], \"heatmapgl\": [{\"colorbar\": {\"outlinewidth\": 0, \"ticks\": \"\"}, \"colorscale\": [[0.0, \"#0d0887\"], [0.1111111111111111, \"#46039f\"], [0.2222222222222222, \"#7201a8\"], [0.3333333333333333, \"#9c179e\"], [0.4444444444444444, \"#bd3786\"], [0.5555555555555556, \"#d8576b\"], [0.6666666666666666, \"#ed7953\"], [0.7777777777777778, \"#fb9f3a\"], [0.8888888888888888, \"#fdca26\"], [1.0, \"#f0f921\"]], \"type\": \"heatmapgl\"}], \"histogram\": [{\"marker\": {\"colorbar\": {\"outlinewidth\": 0, \"ticks\": \"\"}}, \"type\": \"histogram\"}], \"histogram2d\": [{\"colorbar\": {\"outlinewidth\": 0, \"ticks\": \"\"}, \"colorscale\": [[0.0, \"#0d0887\"], [0.1111111111111111, \"#46039f\"], [0.2222222222222222, \"#7201a8\"], [0.3333333333333333, \"#9c179e\"], [0.4444444444444444, \"#bd3786\"], [0.5555555555555556, \"#d8576b\"], [0.6666666666666666, \"#ed7953\"], [0.7777777777777778, \"#fb9f3a\"], [0.8888888888888888, \"#fdca26\"], [1.0, \"#f0f921\"]], \"type\": \"histogram2d\"}], \"histogram2dcontour\": [{\"colorbar\": {\"outlinewidth\": 0, \"ticks\": \"\"}, \"colorscale\": [[0.0, \"#0d0887\"], [0.1111111111111111, \"#46039f\"], [0.2222222222222222, \"#7201a8\"], [0.3333333333333333, \"#9c179e\"], [0.4444444444444444, \"#bd3786\"], [0.5555555555555556, \"#d8576b\"], [0.6666666666666666, \"#ed7953\"], [0.7777777777777778, \"#fb9f3a\"], [0.8888888888888888, \"#fdca26\"], [1.0, \"#f0f921\"]], \"type\": \"histogram2dcontour\"}], \"mesh3d\": [{\"colorbar\": {\"outlinewidth\": 0, \"ticks\": \"\"}, \"type\": \"mesh3d\"}], \"parcoords\": [{\"line\": {\"colorbar\": {\"outlinewidth\": 0, \"ticks\": \"\"}}, \"type\": \"parcoords\"}], \"pie\": [{\"automargin\": true, \"type\": \"pie\"}], \"scatter\": [{\"marker\": {\"colorbar\": {\"outlinewidth\": 0, \"ticks\": \"\"}}, \"type\": \"scatter\"}], \"scatter3d\": [{\"line\": {\"colorbar\": {\"outlinewidth\": 0, \"ticks\": \"\"}}, \"marker\": {\"colorbar\": {\"outlinewidth\": 0, \"ticks\": \"\"}}, \"type\": \"scatter3d\"}], \"scattercarpet\": [{\"marker\": {\"colorbar\": {\"outlinewidth\": 0, \"ticks\": \"\"}}, \"type\": \"scattercarpet\"}], \"scattergeo\": [{\"marker\": {\"colorbar\": {\"outlinewidth\": 0, \"ticks\": \"\"}}, \"type\": \"scattergeo\"}], \"scattergl\": [{\"marker\": {\"colorbar\": {\"outlinewidth\": 0, \"ticks\": \"\"}}, \"type\": \"scattergl\"}], \"scattermapbox\": [{\"marker\": {\"colorbar\": {\"outlinewidth\": 0, \"ticks\": \"\"}}, \"type\": \"scattermapbox\"}], \"scatterpolar\": [{\"marker\": {\"colorbar\": {\"outlinewidth\": 0, \"ticks\": \"\"}}, \"type\": \"scatterpolar\"}], \"scatterpolargl\": [{\"marker\": {\"colorbar\": {\"outlinewidth\": 0, \"ticks\": \"\"}}, \"type\": \"scatterpolargl\"}], \"scatterternary\": [{\"marker\": {\"colorbar\": {\"outlinewidth\": 0, \"ticks\": \"\"}}, \"type\": \"scatterternary\"}], \"surface\": [{\"colorbar\": {\"outlinewidth\": 0, \"ticks\": \"\"}, \"colorscale\": [[0.0, \"#0d0887\"], [0.1111111111111111, \"#46039f\"], [0.2222222222222222, \"#7201a8\"], [0.3333333333333333, \"#9c179e\"], [0.4444444444444444, \"#bd3786\"], [0.5555555555555556, \"#d8576b\"], [0.6666666666666666, \"#ed7953\"], [0.7777777777777778, \"#fb9f3a\"], [0.8888888888888888, \"#fdca26\"], [1.0, \"#f0f921\"]], \"type\": \"surface\"}], \"table\": [{\"cells\": {\"fill\": {\"color\": \"#EBF0F8\"}, \"line\": {\"color\": \"white\"}}, \"header\": {\"fill\": {\"color\": \"#C8D4E3\"}, \"line\": {\"color\": \"white\"}}, \"type\": \"table\"}]}, \"layout\": {\"annotationdefaults\": {\"arrowcolor\": \"#2a3f5f\", \"arrowhead\": 0, \"arrowwidth\": 1}, \"coloraxis\": {\"colorbar\": {\"outlinewidth\": 0, \"ticks\": \"\"}}, \"colorscale\": {\"diverging\": [[0, \"#8e0152\"], [0.1, \"#c51b7d\"], [0.2, \"#de77ae\"], [0.3, \"#f1b6da\"], [0.4, \"#fde0ef\"], [0.5, \"#f7f7f7\"], [0.6, \"#e6f5d0\"], [0.7, \"#b8e186\"], [0.8, \"#7fbc41\"], [0.9, \"#4d9221\"], [1, \"#276419\"]], \"sequential\": [[0.0, \"#0d0887\"], [0.1111111111111111, \"#46039f\"], [0.2222222222222222, \"#7201a8\"], [0.3333333333333333, \"#9c179e\"], [0.4444444444444444, \"#bd3786\"], [0.5555555555555556, \"#d8576b\"], [0.6666666666666666, \"#ed7953\"], [0.7777777777777778, \"#fb9f3a\"], [0.8888888888888888, \"#fdca26\"], [1.0, \"#f0f921\"]], \"sequentialminus\": [[0.0, \"#0d0887\"], [0.1111111111111111, \"#46039f\"], [0.2222222222222222, \"#7201a8\"], [0.3333333333333333, \"#9c179e\"], [0.4444444444444444, \"#bd3786\"], [0.5555555555555556, \"#d8576b\"], [0.6666666666666666, \"#ed7953\"], [0.7777777777777778, \"#fb9f3a\"], [0.8888888888888888, \"#fdca26\"], [1.0, \"#f0f921\"]]}, \"colorway\": [\"#636efa\", \"#EF553B\", \"#00cc96\", \"#ab63fa\", \"#FFA15A\", \"#19d3f3\", \"#FF6692\", \"#B6E880\", \"#FF97FF\", \"#FECB52\"], \"font\": {\"color\": \"#2a3f5f\"}, \"geo\": {\"bgcolor\": \"white\", \"lakecolor\": \"white\", \"landcolor\": \"#E5ECF6\", \"showlakes\": true, \"showland\": true, \"subunitcolor\": \"white\"}, \"hoverlabel\": {\"align\": \"left\"}, \"hovermode\": \"closest\", \"mapbox\": {\"style\": \"light\"}, \"paper_bgcolor\": \"white\", \"plot_bgcolor\": \"#E5ECF6\", \"polar\": {\"angularaxis\": {\"gridcolor\": \"white\", \"linecolor\": \"white\", \"ticks\": \"\"}, \"bgcolor\": \"#E5ECF6\", \"radialaxis\": {\"gridcolor\": \"white\", \"linecolor\": \"white\", \"ticks\": \"\"}}, \"scene\": {\"xaxis\": {\"backgroundcolor\": \"#E5ECF6\", \"gridcolor\": \"white\", \"gridwidth\": 2, \"linecolor\": \"white\", \"showbackground\": true, \"ticks\": \"\", \"zerolinecolor\": \"white\"}, \"yaxis\": {\"backgroundcolor\": \"#E5ECF6\", \"gridcolor\": \"white\", \"gridwidth\": 2, \"linecolor\": \"white\", \"showbackground\": true, \"ticks\": \"\", \"zerolinecolor\": \"white\"}, \"zaxis\": {\"backgroundcolor\": \"#E5ECF6\", \"gridcolor\": \"white\", \"gridwidth\": 2, \"linecolor\": \"white\", \"showbackground\": true, \"ticks\": \"\", \"zerolinecolor\": \"white\"}}, \"shapedefaults\": {\"line\": {\"color\": \"#2a3f5f\"}}, \"ternary\": {\"aaxis\": {\"gridcolor\": \"white\", \"linecolor\": \"white\", \"ticks\": \"\"}, \"baxis\": {\"gridcolor\": \"white\", \"linecolor\": \"white\", \"ticks\": \"\"}, \"bgcolor\": \"#E5ECF6\", \"caxis\": {\"gridcolor\": \"white\", \"linecolor\": \"white\", \"ticks\": \"\"}}, \"title\": {\"x\": 0.05}, \"xaxis\": {\"automargin\": true, \"gridcolor\": \"white\", \"linecolor\": \"white\", \"ticks\": \"\", \"title\": {\"standoff\": 15}, \"zerolinecolor\": \"white\", \"zerolinewidth\": 2}, \"yaxis\": {\"automargin\": true, \"gridcolor\": \"white\", \"linecolor\": \"white\", \"ticks\": \"\", \"title\": {\"standoff\": 15}, \"zerolinecolor\": \"white\", \"zerolinewidth\": 2}}}, \"title\": {\"text\": \"Cities of Mexico\"}, \"width\": 1400},\n",
              "                        {\"responsive\": true}\n",
              "                    ).then(function(){\n",
              "                            \n",
              "var gd = document.getElementById('d95c25b4-7f31-4115-b108-fb2ab6904741');\n",
              "var x = new MutationObserver(function (mutations, observer) {{\n",
              "        var display = window.getComputedStyle(gd).display;\n",
              "        if (!display || display === 'none') {{\n",
              "            console.log([gd, 'removed!']);\n",
              "            Plotly.purge(gd);\n",
              "            observer.disconnect();\n",
              "        }}\n",
              "}});\n",
              "\n",
              "// Listen for the removal of the full notebook cells\n",
              "var notebookContainer = gd.closest('#notebook-container');\n",
              "if (notebookContainer) {{\n",
              "    x.observe(notebookContainer, {childList: true});\n",
              "}}\n",
              "\n",
              "// Listen for the clearing of the current output cell\n",
              "var outputEl = gd.closest('.output');\n",
              "if (outputEl) {{\n",
              "    x.observe(outputEl, {childList: true});\n",
              "}}\n",
              "\n",
              "                        })\n",
              "                };\n",
              "                \n",
              "            </script>\n",
              "        </div>\n",
              "</body>\n",
              "</html>"
            ]
          },
          "metadata": {
            "tags": []
          }
        }
      ]
    },
    {
      "cell_type": "code",
      "metadata": {
        "id": "ey62Bi_inKCR",
        "colab_type": "code",
        "colab": {}
      },
      "source": [
        "xy=(df.values)"
      ],
      "execution_count": 172,
      "outputs": []
    },
    {
      "cell_type": "code",
      "metadata": {
        "id": "9kdsrsI-yGwu",
        "colab_type": "code",
        "colab": {
          "base_uri": "https://localhost:8080/",
          "height": 204
        },
        "outputId": "94f14295-16e4-4ec3-f45e-aa3b07359b27"
      },
      "source": [
        "xy"
      ],
      "execution_count": 173,
      "outputs": [
        {
          "output_type": "execute_result",
          "data": {
            "text/plain": [
              "array([[  21.8806553 , -102.2961323 ],\n",
              "       [  22.1321072 , -102.0952559 ],\n",
              "       [  21.84962425, -102.71254273],\n",
              "       [  22.3705155 , -102.31200851],\n",
              "       [  21.9345555 , -102.46845172],\n",
              "       [  22.1049335 , -102.30162449],\n",
              "       [  22.2293637 , -102.3229846 ],\n",
              "       [  22.1426267 , -102.53013573],\n",
              "       [  22.2435163 , -102.19272117],\n",
              "       [  21.92866955, -102.00072765],\n",
              "       [  22.02186515, -102.25178378]])"
            ]
          },
          "metadata": {
            "tags": []
          },
          "execution_count": 173
        }
      ]
    },
    {
      "cell_type": "code",
      "metadata": {
        "id": "tvzcFYguywnV",
        "colab_type": "code",
        "colab": {}
      },
      "source": [
        "N=len(xy)"
      ],
      "execution_count": 174,
      "outputs": []
    },
    {
      "cell_type": "code",
      "metadata": {
        "id": "eCFjxdC5yfUH",
        "colab_type": "code",
        "colab": {}
      },
      "source": [
        "from scipy.spatial.distance import cdist"
      ],
      "execution_count": 175,
      "outputs": []
    },
    {
      "cell_type": "code",
      "metadata": {
        "id": "dlvVzwopyQDG",
        "colab_type": "code",
        "colab": {
          "base_uri": "https://localhost:8080/",
          "height": 578
        },
        "outputId": "5e606b8e-a1e4-4fab-ee05-3eb787a7136d"
      },
      "source": [
        "distancias = cdist(xy, xy, 'euclidean')\n",
        "#np.where( Y==np.min(Y[np.nonzero(Y)]))\n",
        "distancias"
      ],
      "execution_count": 176,
      "outputs": [
        {
          "output_type": "execute_result",
          "data": {
            "text/plain": [
              "array([[0.        , 0.32183752, 0.41756505, 0.4901174 , 0.18055252,\n",
              "        0.22434544, 0.34974075, 0.35126432, 0.37730885, 0.29928126,\n",
              "        0.14801018],\n",
              "       [0.32183752, 0.        , 0.67885172, 0.32221144, 0.42225797,\n",
              "        0.20814996, 0.24762712, 0.43500705, 0.14802523, 0.22432669,\n",
              "        0.1914531 ],\n",
              "       [0.41756505, 0.67885172, 0.        , 0.65708094, 0.25844485,\n",
              "        0.48377331, 0.54401984, 0.34514164, 0.65220043, 0.71619052,\n",
              "        0.49190013],\n",
              "       [0.4901174 , 0.32221144, 0.65708094, 0.        , 0.46317988,\n",
              "        0.26578493, 0.14157791, 0.31545648, 0.17423623, 0.54048461,\n",
              "        0.35381363],\n",
              "       [0.18055252, 0.42225797, 0.25844485, 0.46317988, 0.        ,\n",
              "        0.23845332, 0.32874391, 0.21702199, 0.4141064 , 0.4677611 ,\n",
              "        0.23359788],\n",
              "       [0.22434544, 0.20814996, 0.48377331, 0.26578493, 0.23845332,\n",
              "        0.        , 0.12625026, 0.23159915, 0.17625301, 0.34872322,\n",
              "        0.09687336],\n",
              "       [0.34974075, 0.24762712, 0.54401984, 0.14157791, 0.32874391,\n",
              "        0.12625026, 0.        , 0.22457716, 0.13102998, 0.44075675,\n",
              "        0.21937458],\n",
              "       [0.35126432, 0.43500705, 0.34514164, 0.31545648, 0.21702199,\n",
              "        0.23159915, 0.22457716, 0.        , 0.35217509, 0.57100838,\n",
              "        0.30341912],\n",
              "       [0.37730885, 0.14802523, 0.65220043, 0.17423623, 0.4141064 ,\n",
              "        0.17625301, 0.13102998, 0.35217509, 0.        , 0.3687682 ,\n",
              "        0.22938532],\n",
              "       [0.29928126, 0.22432669, 0.71619052, 0.54048461, 0.4677611 ,\n",
              "        0.34872322, 0.44075675, 0.57100838, 0.3687682 , 0.        ,\n",
              "        0.26779582],\n",
              "       [0.14801018, 0.1914531 , 0.49190013, 0.35381363, 0.23359788,\n",
              "        0.09687336, 0.21937458, 0.30341912, 0.22938532, 0.26779582,\n",
              "        0.        ]])"
            ]
          },
          "metadata": {
            "tags": []
          },
          "execution_count": 176
        }
      ]
    },
    {
      "cell_type": "code",
      "metadata": {
        "id": "Xh9oYPzVycBr",
        "colab_type": "code",
        "colab": {}
      },
      "source": [
        "distancias_df=pd.DataFrame(data=distancias)"
      ],
      "execution_count": 177,
      "outputs": []
    },
    {
      "cell_type": "code",
      "metadata": {
        "id": "ynGZCJBSyl46",
        "colab_type": "code",
        "colab": {}
      },
      "source": [
        "def vecinos(df,r,i):\n",
        "  return df[df[i] < r][i]"
      ],
      "execution_count": 178,
      "outputs": []
    },
    {
      "cell_type": "code",
      "metadata": {
        "id": "za4c-t9Myoyi",
        "colab_type": "code",
        "colab": {}
      },
      "source": [
        "pares=[]\n",
        "radio=0.3\n",
        "for i in np.arange(N):\n",
        "  vec_serie=vecinos(distancias_df,radio,i)\n",
        "  lista=(list(vec_serie.index.values)) \n",
        "  for p in lista:\n",
        "    if (p != i):\n",
        "      pares.append([i,p])\n",
        "      #print(i,p)"
      ],
      "execution_count": 179,
      "outputs": []
    },
    {
      "cell_type": "code",
      "metadata": {
        "id": "ULkELWOUy6A3",
        "colab_type": "code",
        "colab": {}
      },
      "source": [
        "import networkx as nx\n",
        "import matplotlib.pyplot as plt"
      ],
      "execution_count": 180,
      "outputs": []
    },
    {
      "cell_type": "code",
      "metadata": {
        "id": "F79-1YoCzDGt",
        "colab_type": "code",
        "colab": {
          "base_uri": "https://localhost:8080/",
          "height": 51
        },
        "outputId": "ddf2dc9d-d855-452e-c08a-d66704888904"
      },
      "source": [
        "G = nx.Graph()\n",
        "#G.add_edges_from(pares)\n",
        "G\n",
        "print('We have %d nodes.' % G.number_of_nodes())\n",
        "print('We have %d edges.' % G.number_of_edges())"
      ],
      "execution_count": 181,
      "outputs": [
        {
          "output_type": "stream",
          "text": [
            "We have 0 nodes.\n",
            "We have 0 edges.\n"
          ],
          "name": "stdout"
        }
      ]
    },
    {
      "cell_type": "code",
      "metadata": {
        "id": "En0JW1pUzF4P",
        "colab_type": "code",
        "colab": {}
      },
      "source": [
        "for par in pares:\n",
        "  G.add_edge(str(par[0]),str(par[1]))"
      ],
      "execution_count": 182,
      "outputs": []
    },
    {
      "cell_type": "code",
      "metadata": {
        "id": "7_WUUs5fzIgH",
        "colab_type": "code",
        "colab": {
          "base_uri": "https://localhost:8080/",
          "height": 51
        },
        "outputId": "3bbe866e-4924-4245-8320-65ec9af005db"
      },
      "source": [
        "print('We have %d nodes.' % G.number_of_nodes())\n",
        "print('We have %d edges.' % G.number_of_edges())"
      ],
      "execution_count": 183,
      "outputs": [
        {
          "output_type": "stream",
          "text": [
            "We have 11 nodes.\n",
            "We have 25 edges.\n"
          ],
          "name": "stdout"
        }
      ]
    },
    {
      "cell_type": "code",
      "metadata": {
        "id": "gAKQuIyozLF4",
        "colab_type": "code",
        "colab": {
          "base_uri": "https://localhost:8080/",
          "height": 54
        },
        "outputId": "a028157a-769c-41a8-bd7b-09ac4b792886"
      },
      "source": [
        "diccio={} # inicializamos el diccionario\n",
        "#seed=108  # damos una semilla, prueba a ver que pasa si la cambias!!!\n",
        "for i in np.arange(N):\n",
        "  #np.random.seed(i+seed)\n",
        "  diccio[str(i)]=np.array([longitud[i],latitud[i]])#np.random.uniform(20,30, size=(2, )) # qué significa esta línea?? --> ve el resultado\n",
        "  \n",
        "\n",
        "print(diccio)"
      ],
      "execution_count": 184,
      "outputs": [
        {
          "output_type": "stream",
          "text": [
            "{'0': array([-102.2961323,   21.8806553]), '1': array([-102.0952559,   22.1321072]), '2': array([-102.71254273,   21.84962425]), '3': array([-102.31200851,   22.3705155 ]), '4': array([-102.46845172,   21.9345555 ]), '5': array([-102.30162449,   22.1049335 ]), '6': array([-102.3229846,   22.2293637]), '7': array([-102.53013573,   22.1426267 ]), '8': array([-102.19272117,   22.2435163 ]), '9': array([-102.00072765,   21.92866955]), '10': array([-102.25178378,   22.02186515])}\n"
          ],
          "name": "stdout"
        }
      ]
    },
    {
      "cell_type": "code",
      "metadata": {
        "id": "ZQSxs324zOUc",
        "colab_type": "code",
        "colab": {
          "base_uri": "https://localhost:8080/",
          "height": 248
        },
        "outputId": "feb656c7-8cf0-47a8-c041-31261dab32dd"
      },
      "source": [
        "pos=diccio\n",
        "fig, ax = plt.subplots()\n",
        "nx.draw(G,pos=pos,with_labels=True)\n",
        "plt.show()"
      ],
      "execution_count": 195,
      "outputs": [
        {
          "output_type": "display_data",
          "data": {
            "image/png": "[encoded data removed]",
            "text/plain": [
              "<Figure size 432x288 with 1 Axes>"
            ]
          },
          "metadata": {
            "tags": []
          }
        }
      ]
    },
    {
      "cell_type": "code",
      "metadata": {
        "id": "oYq9XRIRzyA7",
        "colab_type": "code",
        "colab": {
          "base_uri": "https://localhost:8080/",
          "height": 542
        },
        "outputId": "7b946bce-f318-45f4-8f53-dbd7fbd8e1d8"
      },
      "source": [
        "import plotly.express as px\n",
        "fig = px.scatter(y=latitud,x=longitud,hover_data=[distancias_df.index])\n",
        "fig.show()"
      ],
      "execution_count": 196,
      "outputs": [
        {
          "output_type": "display_data",
          "data": {
            "text/html": [
              "<html>\n",
              "<head><meta charset=\"utf-8\" /></head>\n",
              "<body>\n",
              "    <div>\n",
              "            <script src=\"https://cdnjs.cloudflare.com/ajax/libs/mathjax/2.7.5/MathJax.js?config=TeX-AMS-MML_SVG\"></script><script type=\"text/javascript\">if (window.MathJax) {MathJax.Hub.Config({SVG: {font: \"STIX-Web\"}});}</script>\n",
              "                <script type=\"text/javascript\">window.PlotlyConfig = {MathJaxConfig: 'local'};</script>\n",
              "        <script src=\"https://cdn.plot.ly/plotly-latest.min.js\"></script>    \n",
              "            <div id=\"ce3d9eac-29bb-4ee0-8e53-b35352fe8cd6\" class=\"plotly-graph-div\" style=\"height:525px; width:100%;\"></div>\n",
              "            <script type=\"text/javascript\">\n",
              "                \n",
              "                    window.PLOTLYENV=window.PLOTLYENV || {};\n",
              "                    \n",
              "                if (document.getElementById(\"ce3d9eac-29bb-4ee0-8e53-b35352fe8cd6\")) {\n",
              "                    Plotly.newPlot(\n",
              "                        'ce3d9eac-29bb-4ee0-8e53-b35352fe8cd6',\n",
              "                        [{\"customdata\": [[0], [1], [2], [3], [4], [5], [6], [7], [8], [9], [10]], \"hoverlabel\": {\"namelength\": 0}, \"hovertemplate\": \"x=%{x}<br>y=%{y}<br>hover_data_0=%{customdata[0]}\", \"legendgroup\": \"\", \"marker\": {\"color\": \"#636efa\", \"symbol\": \"circle\"}, \"mode\": \"markers\", \"name\": \"\", \"showlegend\": false, \"type\": \"scatter\", \"x\": [-102.2961323, -102.09525589618855, -102.71254273225466, -102.31200851052341, -102.46845171651151, -102.30162449267488, -102.3229846, -102.53013573250765, -102.19272117494603, -102.00072765450251, -102.25178378307089], \"xaxis\": \"x\", \"y\": [21.8806553, 22.1321072, 21.849624249999998, 22.3705155, 21.934555500000002, 22.1049335, 22.2293637, 22.1426267, 22.2435163, 21.928669550000002, 22.02186515], \"yaxis\": \"y\"}],\n",
              "                        {\"legend\": {\"tracegroupgap\": 0}, \"margin\": {\"t\": 60}, \"template\": {\"data\": {\"bar\": [{\"error_x\": {\"color\": \"#2a3f5f\"}, \"error_y\": {\"color\": \"#2a3f5f\"}, \"marker\": {\"line\": {\"color\": \"#E5ECF6\", \"width\": 0.5}}, \"type\": \"bar\"}], \"barpolar\": [{\"marker\": {\"line\": {\"color\": \"#E5ECF6\", \"width\": 0.5}}, \"type\": \"barpolar\"}], \"carpet\": [{\"aaxis\": {\"endlinecolor\": \"#2a3f5f\", \"gridcolor\": \"white\", \"linecolor\": \"white\", \"minorgridcolor\": \"white\", \"startlinecolor\": \"#2a3f5f\"}, \"baxis\": {\"endlinecolor\": \"#2a3f5f\", \"gridcolor\": \"white\", \"linecolor\": \"white\", \"minorgridcolor\": \"white\", \"startlinecolor\": \"#2a3f5f\"}, \"type\": \"carpet\"}], \"choropleth\": [{\"colorbar\": {\"outlinewidth\": 0, \"ticks\": \"\"}, \"type\": \"choropleth\"}], \"contour\": [{\"colorbar\": {\"outlinewidth\": 0, \"ticks\": \"\"}, \"colorscale\": [[0.0, \"#0d0887\"], [0.1111111111111111, \"#46039f\"], [0.2222222222222222, \"#7201a8\"], [0.3333333333333333, \"#9c179e\"], [0.4444444444444444, \"#bd3786\"], [0.5555555555555556, \"#d8576b\"], [0.6666666666666666, \"#ed7953\"], [0.7777777777777778, \"#fb9f3a\"], [0.8888888888888888, \"#fdca26\"], [1.0, \"#f0f921\"]], \"type\": \"contour\"}], \"contourcarpet\": [{\"colorbar\": {\"outlinewidth\": 0, \"ticks\": \"\"}, \"type\": \"contourcarpet\"}], \"heatmap\": [{\"colorbar\": {\"outlinewidth\": 0, \"ticks\": \"\"}, \"colorscale\": [[0.0, \"#0d0887\"], [0.1111111111111111, \"#46039f\"], [0.2222222222222222, \"#7201a8\"], [0.3333333333333333, \"#9c179e\"], [0.4444444444444444, \"#bd3786\"], [0.5555555555555556, \"#d8576b\"], [0.6666666666666666, \"#ed7953\"], [0.7777777777777778, \"#fb9f3a\"], [0.8888888888888888, \"#fdca26\"], [1.0, \"#f0f921\"]], \"type\": \"heatmap\"}], \"heatmapgl\": [{\"colorbar\": {\"outlinewidth\": 0, \"ticks\": \"\"}, \"colorscale\": [[0.0, \"#0d0887\"], [0.1111111111111111, \"#46039f\"], [0.2222222222222222, \"#7201a8\"], [0.3333333333333333, \"#9c179e\"], [0.4444444444444444, \"#bd3786\"], [0.5555555555555556, \"#d8576b\"], [0.6666666666666666, \"#ed7953\"], [0.7777777777777778, \"#fb9f3a\"], [0.8888888888888888, \"#fdca26\"], [1.0, \"#f0f921\"]], \"type\": \"heatmapgl\"}], \"histogram\": [{\"marker\": {\"colorbar\": {\"outlinewidth\": 0, \"ticks\": \"\"}}, \"type\": \"histogram\"}], \"histogram2d\": [{\"colorbar\": {\"outlinewidth\": 0, \"ticks\": \"\"}, \"colorscale\": [[0.0, \"#0d0887\"], [0.1111111111111111, \"#46039f\"], [0.2222222222222222, \"#7201a8\"], [0.3333333333333333, \"#9c179e\"], [0.4444444444444444, \"#bd3786\"], [0.5555555555555556, \"#d8576b\"], [0.6666666666666666, \"#ed7953\"], [0.7777777777777778, \"#fb9f3a\"], [0.8888888888888888, \"#fdca26\"], [1.0, \"#f0f921\"]], \"type\": \"histogram2d\"}], \"histogram2dcontour\": [{\"colorbar\": {\"outlinewidth\": 0, \"ticks\": \"\"}, \"colorscale\": [[0.0, \"#0d0887\"], [0.1111111111111111, \"#46039f\"], [0.2222222222222222, \"#7201a8\"], [0.3333333333333333, \"#9c179e\"], [0.4444444444444444, \"#bd3786\"], [0.5555555555555556, \"#d8576b\"], [0.6666666666666666, \"#ed7953\"], [0.7777777777777778, \"#fb9f3a\"], [0.8888888888888888, \"#fdca26\"], [1.0, \"#f0f921\"]], \"type\": \"histogram2dcontour\"}], \"mesh3d\": [{\"colorbar\": {\"outlinewidth\": 0, \"ticks\": \"\"}, \"type\": \"mesh3d\"}], \"parcoords\": [{\"line\": {\"colorbar\": {\"outlinewidth\": 0, \"ticks\": \"\"}}, \"type\": \"parcoords\"}], \"pie\": [{\"automargin\": true, \"type\": \"pie\"}], \"scatter\": [{\"marker\": {\"colorbar\": {\"outlinewidth\": 0, \"ticks\": \"\"}}, \"type\": \"scatter\"}], \"scatter3d\": [{\"line\": {\"colorbar\": {\"outlinewidth\": 0, \"ticks\": \"\"}}, \"marker\": {\"colorbar\": {\"outlinewidth\": 0, \"ticks\": \"\"}}, \"type\": \"scatter3d\"}], \"scattercarpet\": [{\"marker\": {\"colorbar\": {\"outlinewidth\": 0, \"ticks\": \"\"}}, \"type\": \"scattercarpet\"}], \"scattergeo\": [{\"marker\": {\"colorbar\": {\"outlinewidth\": 0, \"ticks\": \"\"}}, \"type\": \"scattergeo\"}], \"scattergl\": [{\"marker\": {\"colorbar\": {\"outlinewidth\": 0, \"ticks\": \"\"}}, \"type\": \"scattergl\"}], \"scattermapbox\": [{\"marker\": {\"colorbar\": {\"outlinewidth\": 0, \"ticks\": \"\"}}, \"type\": \"scattermapbox\"}], \"scatterpolar\": [{\"marker\": {\"colorbar\": {\"outlinewidth\": 0, \"ticks\": \"\"}}, \"type\": \"scatterpolar\"}], \"scatterpolargl\": [{\"marker\": {\"colorbar\": {\"outlinewidth\": 0, \"ticks\": \"\"}}, \"type\": \"scatterpolargl\"}], \"scatterternary\": [{\"marker\": {\"colorbar\": {\"outlinewidth\": 0, \"ticks\": \"\"}}, \"type\": \"scatterternary\"}], \"surface\": [{\"colorbar\": {\"outlinewidth\": 0, \"ticks\": \"\"}, \"colorscale\": [[0.0, \"#0d0887\"], [0.1111111111111111, \"#46039f\"], [0.2222222222222222, \"#7201a8\"], [0.3333333333333333, \"#9c179e\"], [0.4444444444444444, \"#bd3786\"], [0.5555555555555556, \"#d8576b\"], [0.6666666666666666, \"#ed7953\"], [0.7777777777777778, \"#fb9f3a\"], [0.8888888888888888, \"#fdca26\"], [1.0, \"#f0f921\"]], \"type\": \"surface\"}], \"table\": [{\"cells\": {\"fill\": {\"color\": \"#EBF0F8\"}, \"line\": {\"color\": \"white\"}}, \"header\": {\"fill\": {\"color\": \"#C8D4E3\"}, \"line\": {\"color\": \"white\"}}, \"type\": \"table\"}]}, \"layout\": {\"annotationdefaults\": {\"arrowcolor\": \"#2a3f5f\", \"arrowhead\": 0, \"arrowwidth\": 1}, \"coloraxis\": {\"colorbar\": {\"outlinewidth\": 0, \"ticks\": \"\"}}, \"colorscale\": {\"diverging\": [[0, \"#8e0152\"], [0.1, \"#c51b7d\"], [0.2, \"#de77ae\"], [0.3, \"#f1b6da\"], [0.4, \"#fde0ef\"], [0.5, \"#f7f7f7\"], [0.6, \"#e6f5d0\"], [0.7, \"#b8e186\"], [0.8, \"#7fbc41\"], [0.9, \"#4d9221\"], [1, \"#276419\"]], \"sequential\": [[0.0, \"#0d0887\"], [0.1111111111111111, \"#46039f\"], [0.2222222222222222, \"#7201a8\"], [0.3333333333333333, \"#9c179e\"], [0.4444444444444444, \"#bd3786\"], [0.5555555555555556, \"#d8576b\"], [0.6666666666666666, \"#ed7953\"], [0.7777777777777778, \"#fb9f3a\"], [0.8888888888888888, \"#fdca26\"], [1.0, \"#f0f921\"]], \"sequentialminus\": [[0.0, \"#0d0887\"], [0.1111111111111111, \"#46039f\"], [0.2222222222222222, \"#7201a8\"], [0.3333333333333333, \"#9c179e\"], [0.4444444444444444, \"#bd3786\"], [0.5555555555555556, \"#d8576b\"], [0.6666666666666666, \"#ed7953\"], [0.7777777777777778, \"#fb9f3a\"], [0.8888888888888888, \"#fdca26\"], [1.0, \"#f0f921\"]]}, \"colorway\": [\"#636efa\", \"#EF553B\", \"#00cc96\", \"#ab63fa\", \"#FFA15A\", \"#19d3f3\", \"#FF6692\", \"#B6E880\", \"#FF97FF\", \"#FECB52\"], \"font\": {\"color\": \"#2a3f5f\"}, \"geo\": {\"bgcolor\": \"white\", \"lakecolor\": \"white\", \"landcolor\": \"#E5ECF6\", \"showlakes\": true, \"showland\": true, \"subunitcolor\": \"white\"}, \"hoverlabel\": {\"align\": \"left\"}, \"hovermode\": \"closest\", \"mapbox\": {\"style\": \"light\"}, \"paper_bgcolor\": \"white\", \"plot_bgcolor\": \"#E5ECF6\", \"polar\": {\"angularaxis\": {\"gridcolor\": \"white\", \"linecolor\": \"white\", \"ticks\": \"\"}, \"bgcolor\": \"#E5ECF6\", \"radialaxis\": {\"gridcolor\": \"white\", \"linecolor\": \"white\", \"ticks\": \"\"}}, \"scene\": {\"xaxis\": {\"backgroundcolor\": \"#E5ECF6\", \"gridcolor\": \"white\", \"gridwidth\": 2, \"linecolor\": \"white\", \"showbackground\": true, \"ticks\": \"\", \"zerolinecolor\": \"white\"}, \"yaxis\": {\"backgroundcolor\": \"#E5ECF6\", \"gridcolor\": \"white\", \"gridwidth\": 2, \"linecolor\": \"white\", \"showbackground\": true, \"ticks\": \"\", \"zerolinecolor\": \"white\"}, \"zaxis\": {\"backgroundcolor\": \"#E5ECF6\", \"gridcolor\": \"white\", \"gridwidth\": 2, \"linecolor\": \"white\", \"showbackground\": true, \"ticks\": \"\", \"zerolinecolor\": \"white\"}}, \"shapedefaults\": {\"line\": {\"color\": \"#2a3f5f\"}}, \"ternary\": {\"aaxis\": {\"gridcolor\": \"white\", \"linecolor\": \"white\", \"ticks\": \"\"}, \"baxis\": {\"gridcolor\": \"white\", \"linecolor\": \"white\", \"ticks\": \"\"}, \"bgcolor\": \"#E5ECF6\", \"caxis\": {\"gridcolor\": \"white\", \"linecolor\": \"white\", \"ticks\": \"\"}}, \"title\": {\"x\": 0.05}, \"xaxis\": {\"automargin\": true, \"gridcolor\": \"white\", \"linecolor\": \"white\", \"ticks\": \"\", \"title\": {\"standoff\": 15}, \"zerolinecolor\": \"white\", \"zerolinewidth\": 2}, \"yaxis\": {\"automargin\": true, \"gridcolor\": \"white\", \"linecolor\": \"white\", \"ticks\": \"\", \"title\": {\"standoff\": 15}, \"zerolinecolor\": \"white\", \"zerolinewidth\": 2}}}, \"xaxis\": {\"anchor\": \"y\", \"domain\": [0.0, 1.0], \"title\": {\"text\": \"x\"}}, \"yaxis\": {\"anchor\": \"x\", \"domain\": [0.0, 1.0], \"title\": {\"text\": \"y\"}}},\n",
              "                        {\"responsive\": true}\n",
              "                    ).then(function(){\n",
              "                            \n",
              "var gd = document.getElementById('ce3d9eac-29bb-4ee0-8e53-b35352fe8cd6');\n",
              "var x = new MutationObserver(function (mutations, observer) {{\n",
              "        var display = window.getComputedStyle(gd).display;\n",
              "        if (!display || display === 'none') {{\n",
              "            console.log([gd, 'removed!']);\n",
              "            Plotly.purge(gd);\n",
              "            observer.disconnect();\n",
              "        }}\n",
              "}});\n",
              "\n",
              "// Listen for the removal of the full notebook cells\n",
              "var notebookContainer = gd.closest('#notebook-container');\n",
              "if (notebookContainer) {{\n",
              "    x.observe(notebookContainer, {childList: true});\n",
              "}}\n",
              "\n",
              "// Listen for the clearing of the current output cell\n",
              "var outputEl = gd.closest('.output');\n",
              "if (outputEl) {{\n",
              "    x.observe(outputEl, {childList: true});\n",
              "}}\n",
              "\n",
              "                        })\n",
              "                };\n",
              "                \n",
              "            </script>\n",
              "        </div>\n",
              "</body>\n",
              "</html>"
            ]
          },
          "metadata": {
            "tags": []
          }
        }
      ]
    },
    {
      "cell_type": "code",
      "metadata": {
        "id": "tDEQ3HedeO05",
        "colab_type": "code",
        "colab": {
          "base_uri": "https://localhost:8080/",
          "height": 221
        },
        "outputId": "6851f992-eb4e-467c-80c3-f16eb5bd0890"
      },
      "source": [
        "!pip install mplleaflet"
      ],
      "execution_count": 200,
      "outputs": [
        {
          "output_type": "stream",
          "text": [
            "Collecting mplleaflet\n",
            "  Downloading https://files.pythonhosted.org/packages/05/b3/e68ff575ef0872e096878c75f602e76b06ca44d7038d69d867c7b800745b/mplleaflet-0.0.5.tar.gz\n",
            "Requirement already satisfied: jinja2 in /usr/local/lib/python3.6/dist-packages (from mplleaflet) (2.11.2)\n",
            "Requirement already satisfied: six in /usr/local/lib/python3.6/dist-packages (from mplleaflet) (1.15.0)\n",
            "Requirement already satisfied: MarkupSafe>=0.23 in /usr/local/lib/python3.6/dist-packages (from jinja2->mplleaflet) (1.1.1)\n",
            "Building wheels for collected packages: mplleaflet\n",
            "  Building wheel for mplleaflet (setup.py) ... \u001b[?25l\u001b[?25hdone\n",
            "  Created wheel for mplleaflet: filename=mplleaflet-0.0.5-cp36-none-any.whl size=28556 sha256=31bfe39dccae99047b3f8720f713d30d9742ba71dc9c9f827dcf8f610bd969a9\n",
            "  Stored in directory: /root/.cache/pip/wheels/bf/fd/0b/0513de62c339c4a56e2234aa42a5d06e6660a4446fdae7b796\n",
            "Successfully built mplleaflet\n",
            "Installing collected packages: mplleaflet\n",
            "Successfully installed mplleaflet-0.0.5\n"
          ],
          "name": "stdout"
        }
      ]
    },
    {
      "cell_type": "code",
      "metadata": {
        "id": "p199lQbqcJkd",
        "colab_type": "code",
        "colab": {}
      },
      "source": [
        "import matplotlib.pyplot as plt\n",
        "import mplleaflet\n",
        "import networkx as nx\n"
      ],
      "execution_count": 215,
      "outputs": []
    },
    {
      "cell_type": "code",
      "metadata": {
        "id": "j7eP9vW5cKE5",
        "colab_type": "code",
        "colab": {
          "base_uri": "https://localhost:8080/",
          "height": 974
        },
        "outputId": "9d7b03f1-eaa1-4196-eff1-98e9d0c09309"
      },
      "source": [
        "%matplotlib inline\n",
        "fig, ax = plt.subplots(figsize=(8,8))\n",
        "pos=diccio\n",
        "\n",
        "nx.draw(G,pos=pos,with_labels=True)\n",
        "\n",
        "plt.show()\n",
        "#mplleaflet.display(fig=fig)\n",
        "mplleaflet.display(fig=fig)"
      ],
      "execution_count": 226,
      "outputs": [
        {
          "output_type": "display_data",
          "data": {
            "image/png": "[encoded data removed]",
            "text/plain": [
              "<Figure size 576x576 with 1 Axes>"
            ]
          },
          "metadata": {
            "tags": []
          }
        },
        {
          "output_type": "execute_result",
          "data": {
            "text/html": [
              "<iframe src=\"data:text/html;base64,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\" width=\"100%\" height=\"480\"></iframe>"
            ],
            "text/plain": [
              "<IPython.core.display.HTML object>"
            ]
          },
          "metadata": {
            "tags": []
          },
          "execution_count": 226
        }
      ]
    },
    {
      "cell_type": "code",
      "metadata": {
        "id": "-GtVgyBLeofX",
        "colab_type": "code",
        "colab": {}
      },
      "source": [
        ""
      ],
      "execution_count": null,
      "outputs": []
    }
  ]
}