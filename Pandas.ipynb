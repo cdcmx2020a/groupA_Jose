{
  "nbformat": 4,
  "nbformat_minor": 0,
  "metadata": {
    "colab": {
      "name": "Pandas.ipynb",
      "provenance": [],
      "authorship_tag": "ABX9TyMjubAbfyMZgxWU9fLbG7uL",
      "include_colab_link": true
    },
    "kernelspec": {
      "name": "python3",
      "display_name": "Python 3"
    }
  },
  "cells": [
    {
      "cell_type": "markdown",
      "metadata": {
        "id": "view-in-github",
        "colab_type": "text"
      },
      "source": [
        "<a href=\"https://colab.research.google.com/github/cdcmx2020a/groupA_Jose/blob/master/Pandas.ipynb\" target=\"_parent\"><img src=\"https://colab.research.google.com/assets/colab-badge.svg\" alt=\"Open In Colab\"/></a>"
      ]
    },
    {
      "cell_type": "markdown",
      "metadata": {
        "id": "5gyCmd0BVlYG",
        "colab_type": "text"
      },
      "source": [
        "## Ejemplo para uso de Pandas\n",
        "\n",
        "![texto alternativo](https://drwyjmricaxm7.cloudfront.net/repository/New-China-tour-Beijing-to-Chengdu-main-image--pandas-768241575284274_crop_683_341.jpg)\n",
        "\n",
        "# Empezamos por importar la librería, lo cuál se hace con la instrucción\n",
        " `import pandas as pd`\n",
        "\n",
        "## así, para usar pandas debemos invocar a `pd`\n"
      ]
    },
    {
      "cell_type": "code",
      "metadata": {
        "id": "0PIqpRzFWC60",
        "colab_type": "code",
        "colab": {}
      },
      "source": [
        "import pandas as pd"
      ],
      "execution_count": 7,
      "outputs": []
    },
    {
      "cell_type": "markdown",
      "metadata": {
        "id": "pTfEBCxOXpk6",
        "colab_type": "text"
      },
      "source": [
        "## Ahora, descargamos del sitio https://serendipia.digital/ los datos abiertos dados por el gobierno de méxico (pero arreglados por serendipia para un mejor manejo)\n",
        "\n",
        "# La descarga de cualquier tipo de archivo de internet a nuestro Colab, se pude hacer con el comando \n",
        "\n",
        "\n",
        "```\n",
        "# wget \n",
        "```\n",
        "# este no es parte de Python, sino del sistema **linux** de la máquina virtual que soporta el Colab (por eso el símbolo \"!\" al principio).\n",
        "\n",
        "\n"
      ]
    },
    {
      "cell_type": "code",
      "metadata": {
        "id": "g425AWehWLco",
        "colab_type": "code",
        "colab": {
          "base_uri": "https://localhost:8080/",
          "height": 207
        },
        "outputId": "6773d162-718a-47be-b324-96a7c16483bb"
      },
      "source": [
        "!wget https://serendipia.digital/wp-content/uploads/2020/08/covid-19-mexico-07082020.csv"
      ],
      "execution_count": 6,
      "outputs": [
        {
          "output_type": "stream",
          "text": [
            "--2020-08-08 18:47:30--  https://serendipia.digital/wp-content/uploads/2020/08/covid-19-mexico-07082020.csv\n",
            "Resolving serendipia.digital (serendipia.digital)... 64.90.35.127\n",
            "Connecting to serendipia.digital (serendipia.digital)|64.90.35.127|:443... connected.\n",
            "HTTP request sent, awaiting response... 200 OK\n",
            "Length: 26813409 (26M) [text/csv]\n",
            "Saving to: ‘covid-19-mexico-07082020.csv’\n",
            "\n",
            "covid-19-mexico-070 100%[===================>]  25.57M  25.9MB/s    in 1.0s    \n",
            "\n",
            "2020-08-08 18:47:31 (25.9 MB/s) - ‘covid-19-mexico-07082020.csv’ saved [26813409/26813409]\n",
            "\n"
          ],
          "name": "stdout"
        }
      ]
    },
    {
      "cell_type": "markdown",
      "metadata": {
        "id": "OSN5HLyNZDVj",
        "colab_type": "text"
      },
      "source": [
        "## Podemos verificar que tenemos disponible el documento con el comando `ls` (también comando linux)"
      ]
    },
    {
      "cell_type": "code",
      "metadata": {
        "id": "VX2w5TYSZRB2",
        "colab_type": "code",
        "colab": {
          "base_uri": "https://localhost:8080/",
          "height": 35
        },
        "outputId": "44469b76-d9b2-4d4b-ac0c-a9ae67c2b4c1"
      },
      "source": [
        "!ls"
      ],
      "execution_count": 8,
      "outputs": [
        {
          "output_type": "stream",
          "text": [
            "covid-19-mexico-07082020.csv  \u001b[0m\u001b[01;34msample_data\u001b[0m/\n"
          ],
          "name": "stdout"
        }
      ]
    },
    {
      "cell_type": "markdown",
      "metadata": {
        "id": "-aFo4VlYZo9B",
        "colab_type": "text"
      },
      "source": [
        "# Y ahora para manejarlo con Python y Pandas, lo convertimos en un `DataFrame` que es el elemento principal que maneja la librería Pandas. \n",
        "\n",
        "Para ello, usamos la función `read_csv` que hace lectura solo de archivos de extención `csv`"
      ]
    },
    {
      "cell_type": "code",
      "metadata": {
        "id": "W5FLSgUTW3tW",
        "colab_type": "code",
        "colab": {}
      },
      "source": [
        "df = pd.read_csv('covid-19-mexico-07082020.csv')"
      ],
      "execution_count": 4,
      "outputs": []
    },
    {
      "cell_type": "markdown",
      "metadata": {
        "id": "wapkpEG1bCCS",
        "colab_type": "text"
      },
      "source": [
        "## Al escribir solamente `df`, nos despliega el contenido:"
      ]
    },
    {
      "cell_type": "code",
      "metadata": {
        "id": "snB2yiClXI00",
        "colab_type": "code",
        "colab": {
          "base_uri": "https://localhost:8080/",
          "height": 407
        },
        "outputId": "88689fe4-7152-4da0-f0b2-291a9746684d"
      },
      "source": [
        "df"
      ],
      "execution_count": 5,
      "outputs": [
        {
          "output_type": "execute_result",
          "data": {
            "text/html": [
              "<div>\n",
              "<style scoped>\n",
              "    .dataframe tbody tr th:only-of-type {\n",
              "        vertical-align: middle;\n",
              "    }\n",
              "\n",
              "    .dataframe tbody tr th {\n",
              "        vertical-align: top;\n",
              "    }\n",
              "\n",
              "    .dataframe thead th {\n",
              "        text-align: right;\n",
              "    }\n",
              "</style>\n",
              "<table border=\"1\" class=\"dataframe\">\n",
              "  <thead>\n",
              "    <tr style=\"text-align: right;\">\n",
              "      <th></th>\n",
              "      <th>ID_REGISTRO</th>\n",
              "      <th>Nom_Ent</th>\n",
              "      <th>SEXO</th>\n",
              "      <th>EDAD</th>\n",
              "      <th>FECHA_SINTOMAS</th>\n",
              "      <th>RESULTADO</th>\n",
              "    </tr>\n",
              "  </thead>\n",
              "  <tbody>\n",
              "    <tr>\n",
              "      <th>0</th>\n",
              "      <td>0f9404</td>\n",
              "      <td>Sinaloa</td>\n",
              "      <td>F</td>\n",
              "      <td>70</td>\n",
              "      <td>06/06/2020</td>\n",
              "      <td>confirmado</td>\n",
              "    </tr>\n",
              "    <tr>\n",
              "      <th>1</th>\n",
              "      <td>07b035</td>\n",
              "      <td>Aguascalientes</td>\n",
              "      <td>F</td>\n",
              "      <td>3</td>\n",
              "      <td>13/04/2020</td>\n",
              "      <td>confirmado</td>\n",
              "    </tr>\n",
              "    <tr>\n",
              "      <th>2</th>\n",
              "      <td>08c8fb</td>\n",
              "      <td>Ciudad de México</td>\n",
              "      <td>M</td>\n",
              "      <td>68</td>\n",
              "      <td>22/04/2020</td>\n",
              "      <td>confirmado</td>\n",
              "    </tr>\n",
              "    <tr>\n",
              "      <th>3</th>\n",
              "      <td>1a59f9</td>\n",
              "      <td>Tabasco</td>\n",
              "      <td>F</td>\n",
              "      <td>73</td>\n",
              "      <td>20/06/2020</td>\n",
              "      <td>confirmado</td>\n",
              "    </tr>\n",
              "    <tr>\n",
              "      <th>4</th>\n",
              "      <td>023a88</td>\n",
              "      <td>Sonora</td>\n",
              "      <td>F</td>\n",
              "      <td>54</td>\n",
              "      <td>27/03/2020</td>\n",
              "      <td>confirmado</td>\n",
              "    </tr>\n",
              "    <tr>\n",
              "      <th>...</th>\n",
              "      <td>...</td>\n",
              "      <td>...</td>\n",
              "      <td>...</td>\n",
              "      <td>...</td>\n",
              "      <td>...</td>\n",
              "      <td>...</td>\n",
              "    </tr>\n",
              "    <tr>\n",
              "      <th>469402</th>\n",
              "      <td>0744d4</td>\n",
              "      <td>Colima</td>\n",
              "      <td>M</td>\n",
              "      <td>16</td>\n",
              "      <td>12/07/2020</td>\n",
              "      <td>confirmado</td>\n",
              "    </tr>\n",
              "    <tr>\n",
              "      <th>469403</th>\n",
              "      <td>044137</td>\n",
              "      <td>Tabasco</td>\n",
              "      <td>M</td>\n",
              "      <td>48</td>\n",
              "      <td>09/07/2020</td>\n",
              "      <td>confirmado</td>\n",
              "    </tr>\n",
              "    <tr>\n",
              "      <th>469404</th>\n",
              "      <td>1a0976</td>\n",
              "      <td>Nuevo León</td>\n",
              "      <td>F</td>\n",
              "      <td>24</td>\n",
              "      <td>12/07/2020</td>\n",
              "      <td>confirmado</td>\n",
              "    </tr>\n",
              "    <tr>\n",
              "      <th>469405</th>\n",
              "      <td>099c78</td>\n",
              "      <td>Nuevo León</td>\n",
              "      <td>M</td>\n",
              "      <td>64</td>\n",
              "      <td>02/07/2020</td>\n",
              "      <td>confirmado</td>\n",
              "    </tr>\n",
              "    <tr>\n",
              "      <th>469406</th>\n",
              "      <td>1be2b5</td>\n",
              "      <td>Jalisco</td>\n",
              "      <td>M</td>\n",
              "      <td>40</td>\n",
              "      <td>09/07/2020</td>\n",
              "      <td>confirmado</td>\n",
              "    </tr>\n",
              "  </tbody>\n",
              "</table>\n",
              "<p>469407 rows × 6 columns</p>\n",
              "</div>"
            ],
            "text/plain": [
              "       ID_REGISTRO           Nom_Ent SEXO  EDAD FECHA_SINTOMAS   RESULTADO\n",
              "0           0f9404           Sinaloa    F    70     06/06/2020  confirmado\n",
              "1           07b035    Aguascalientes    F     3     13/04/2020  confirmado\n",
              "2           08c8fb  Ciudad de México    M    68     22/04/2020  confirmado\n",
              "3           1a59f9           Tabasco    F    73     20/06/2020  confirmado\n",
              "4           023a88            Sonora    F    54     27/03/2020  confirmado\n",
              "...            ...               ...  ...   ...            ...         ...\n",
              "469402      0744d4            Colima    M    16     12/07/2020  confirmado\n",
              "469403      044137           Tabasco    M    48     09/07/2020  confirmado\n",
              "469404      1a0976        Nuevo León    F    24     12/07/2020  confirmado\n",
              "469405      099c78        Nuevo León    M    64     02/07/2020  confirmado\n",
              "469406      1be2b5           Jalisco    M    40     09/07/2020  confirmado\n",
              "\n",
              "[469407 rows x 6 columns]"
            ]
          },
          "metadata": {
            "tags": []
          },
          "execution_count": 5
        }
      ]
    },
    {
      "cell_type": "markdown",
      "metadata": {
        "id": "-ViATFXhbPg2",
        "colab_type": "text"
      },
      "source": [
        "# A partir de ese DataFrame, se pueden formar otros, por ejemplo usando solo algunas columnas: "
      ]
    },
    {
      "cell_type": "code",
      "metadata": {
        "id": "Bgv_2lfDXK9Z",
        "colab_type": "code",
        "colab": {}
      },
      "source": [
        "df1 = df[ ['Nom_Ent','EDAD','RESULTADO'] ]"
      ],
      "execution_count": 12,
      "outputs": []
    },
    {
      "cell_type": "code",
      "metadata": {
        "id": "W7iCmh2yblMT",
        "colab_type": "code",
        "colab": {
          "base_uri": "https://localhost:8080/",
          "height": 407
        },
        "outputId": "e266ee5d-7318-4dbd-a1cb-b6c91a91b760"
      },
      "source": [
        "df1"
      ],
      "execution_count": 13,
      "outputs": [
        {
          "output_type": "execute_result",
          "data": {
            "text/html": [
              "<div>\n",
              "<style scoped>\n",
              "    .dataframe tbody tr th:only-of-type {\n",
              "        vertical-align: middle;\n",
              "    }\n",
              "\n",
              "    .dataframe tbody tr th {\n",
              "        vertical-align: top;\n",
              "    }\n",
              "\n",
              "    .dataframe thead th {\n",
              "        text-align: right;\n",
              "    }\n",
              "</style>\n",
              "<table border=\"1\" class=\"dataframe\">\n",
              "  <thead>\n",
              "    <tr style=\"text-align: right;\">\n",
              "      <th></th>\n",
              "      <th>Nom_Ent</th>\n",
              "      <th>EDAD</th>\n",
              "      <th>RESULTADO</th>\n",
              "    </tr>\n",
              "  </thead>\n",
              "  <tbody>\n",
              "    <tr>\n",
              "      <th>0</th>\n",
              "      <td>Sinaloa</td>\n",
              "      <td>70</td>\n",
              "      <td>confirmado</td>\n",
              "    </tr>\n",
              "    <tr>\n",
              "      <th>1</th>\n",
              "      <td>Aguascalientes</td>\n",
              "      <td>3</td>\n",
              "      <td>confirmado</td>\n",
              "    </tr>\n",
              "    <tr>\n",
              "      <th>2</th>\n",
              "      <td>Ciudad de México</td>\n",
              "      <td>68</td>\n",
              "      <td>confirmado</td>\n",
              "    </tr>\n",
              "    <tr>\n",
              "      <th>3</th>\n",
              "      <td>Tabasco</td>\n",
              "      <td>73</td>\n",
              "      <td>confirmado</td>\n",
              "    </tr>\n",
              "    <tr>\n",
              "      <th>4</th>\n",
              "      <td>Sonora</td>\n",
              "      <td>54</td>\n",
              "      <td>confirmado</td>\n",
              "    </tr>\n",
              "    <tr>\n",
              "      <th>...</th>\n",
              "      <td>...</td>\n",
              "      <td>...</td>\n",
              "      <td>...</td>\n",
              "    </tr>\n",
              "    <tr>\n",
              "      <th>469402</th>\n",
              "      <td>Colima</td>\n",
              "      <td>16</td>\n",
              "      <td>confirmado</td>\n",
              "    </tr>\n",
              "    <tr>\n",
              "      <th>469403</th>\n",
              "      <td>Tabasco</td>\n",
              "      <td>48</td>\n",
              "      <td>confirmado</td>\n",
              "    </tr>\n",
              "    <tr>\n",
              "      <th>469404</th>\n",
              "      <td>Nuevo León</td>\n",
              "      <td>24</td>\n",
              "      <td>confirmado</td>\n",
              "    </tr>\n",
              "    <tr>\n",
              "      <th>469405</th>\n",
              "      <td>Nuevo León</td>\n",
              "      <td>64</td>\n",
              "      <td>confirmado</td>\n",
              "    </tr>\n",
              "    <tr>\n",
              "      <th>469406</th>\n",
              "      <td>Jalisco</td>\n",
              "      <td>40</td>\n",
              "      <td>confirmado</td>\n",
              "    </tr>\n",
              "  </tbody>\n",
              "</table>\n",
              "<p>469407 rows × 3 columns</p>\n",
              "</div>"
            ],
            "text/plain": [
              "                 Nom_Ent  EDAD   RESULTADO\n",
              "0                Sinaloa    70  confirmado\n",
              "1         Aguascalientes     3  confirmado\n",
              "2       Ciudad de México    68  confirmado\n",
              "3                Tabasco    73  confirmado\n",
              "4                 Sonora    54  confirmado\n",
              "...                  ...   ...         ...\n",
              "469402            Colima    16  confirmado\n",
              "469403           Tabasco    48  confirmado\n",
              "469404        Nuevo León    24  confirmado\n",
              "469405        Nuevo León    64  confirmado\n",
              "469406           Jalisco    40  confirmado\n",
              "\n",
              "[469407 rows x 3 columns]"
            ]
          },
          "metadata": {
            "tags": []
          },
          "execution_count": 13
        }
      ]
    }
  ]
}